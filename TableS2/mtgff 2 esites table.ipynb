{
 "cells": [
  {
   "cell_type": "code",
   "execution_count": 15,
   "metadata": {},
   "outputs": [],
   "source": [
    "using CSV, DataFrames, StatsBase, BioSequences, FASTX"
   ]
  },
  {
   "cell_type": "code",
   "execution_count": 16,
   "metadata": {},
   "outputs": [
    {
     "data": {
      "text/plain": [
       "createFeature (generic function with 1 method)"
      ]
     },
     "metadata": {},
     "output_type": "display_data"
    }
   ],
   "source": [
    "struct Feature\n",
    "    type::String\n",
    "    start::Int\n",
    "    stop::Int\n",
    "    strand::Char\n",
    "    phase::Int\n",
    "    attributes::Dict{String, String}\n",
    "end\n",
    "\n",
    "struct Gene\n",
    "    id::String\n",
    "    gene::Feature\n",
    "    mRNAs::Vector{Feature}\n",
    "    tRNAs::Vector{Feature}\n",
    "    rRNAs::Vector{Feature}\n",
    "    ncRNAs::Vector{Feature}\n",
    "    CDSs::Vector{Feature}\n",
    "    exons::Vector{Feature}\n",
    "    introns::Vector{Feature}\n",
    "    esites::Vector{Feature}\n",
    "end\n",
    "\n",
    "function attributes2dict(attribute_string::String)\n",
    "    dict = Dict{String, String}()\n",
    "    attributes = split(attribute_string, \";\")\n",
    "    for attribute in attributes\n",
    "        kvs = split(attribute, \"=\")\n",
    "        dict[first(kvs)] = last(kvs)\n",
    "    end\n",
    "    dict\n",
    "end\n",
    "\n",
    "function createFeature(row)\n",
    "    Feature(row.feature, row.start, row.stop, row.strand[1], row.phase == \".\" ? 0 : parse(Int, row.phase), attributes2dict(row.attributes))\n",
    "end\n"
   ]
  },
  {
   "cell_type": "code",
   "execution_count": 17,
   "metadata": {},
   "outputs": [
    {
     "data": {
      "text/plain": [
       "add_feature (generic function with 1 method)"
      ]
     },
     "metadata": {},
     "output_type": "display_data"
    }
   ],
   "source": [
    "function add_feature(gene, feature)\n",
    "    #check feature is on same strand as the gene\n",
    "    @assert feature.strand == gene.gene.strand \"strand error: $(string(feature)) $(string(gene.gene))\"\n",
    "    #check feature is within gene\n",
    "    @assert feature.start >= gene.gene.start && feature.stop <= gene.gene.stop \"boundary error: $(string(feature)) $(string(gene.gene))\"\n",
    "    if feature.type == \"mRNA\"\n",
    "        push!(gene.mRNAs, feature)\n",
    "    elseif feature.type == \"tRNA\"\n",
    "        push!(gene.tRNAs, feature)\n",
    "    elseif feature.type == \"rRNA\"\n",
    "        push!(gene.rRNAs, feature)\n",
    "    elseif feature.type == \"ncRNA\"\n",
    "        push!(gene.ncRNAs, feature)\n",
    "    elseif feature.type == \"CDS\"\n",
    "        push!(gene.CDSs, feature)\n",
    "    elseif feature.type == \"exon\"\n",
    "        push!(gene.exons, feature)\n",
    "    elseif feature.type == \"intron\"\n",
    "        push!(gene.introns, feature)\n",
    "    elseif feature.type == \"misc_feature\"\n",
    "        push!(gene.esites, feature)\n",
    "    else\n",
    "        println(\"unknown feature type: \", feature.type)\n",
    "    end\n",
    "end"
   ]
  },
  {
   "cell_type": "code",
   "execution_count": 18,
   "metadata": {},
   "outputs": [
    {
     "data": {
      "text/plain": [
       "add_features (generic function with 1 method)"
      ]
     },
     "metadata": {},
     "output_type": "display_data"
    }
   ],
   "source": [
    "function add_features(feature_type::String)\n",
    "    gff_features = filter(x->x.feature == feature_type, gff)\n",
    "    for row in eachrow(gff_features)\n",
    "        f = createFeature(row)\n",
    "        gene = get(f.attributes, \"gene\", nothing)\n",
    "        if isnothing(gene)\n",
    "            println(\"no gene attribute for \", f.attributes[\"ID\"])\n",
    "        else\n",
    "            mygene = findfirst(x -> x.id == gene, genes) \n",
    "            if isnothing(mygene)\n",
    "                println(\"no gene found matching \", gene)\n",
    "            else\n",
    "                add_feature(genes[mygene], f)\n",
    "            end\n",
    "        end\n",
    "    end\n",
    "end"
   ]
  },
  {
   "cell_type": "code",
   "execution_count": 19,
   "metadata": {},
   "outputs": [
    {
     "data": {
      "text/html": [
       "<div><div style = \"float: left;\"><span>585×9 DataFrame</span></div><div style = \"float: right;\"><span style = \"font-style: italic;\">560 rows omitted</span></div><div style = \"clear: both;\"></div></div><div class = \"data-frame\" style = \"overflow-x: scroll;\"><table class = \"data-frame\" style = \"margin-bottom: 6px;\"><thead><tr class = \"header\"><th class = \"rowNumber\" style = \"font-weight: bold; text-align: right;\">Row</th><th style = \"text-align: left;\">sequence</th><th style = \"text-align: left;\">software</th><th style = \"text-align: left;\">feature</th><th style = \"text-align: left;\">start</th><th style = \"text-align: left;\">stop</th><th style = \"text-align: left;\">score</th><th style = \"text-align: left;\">strand</th><th style = \"text-align: left;\">phase</th><th style = \"text-align: left;\">attributes</th></tr><tr class = \"subheader headerLastRow\"><th class = \"rowNumber\" style = \"font-weight: bold; text-align: right;\"></th><th title = \"String\" style = \"text-align: left;\">String</th><th title = \"String15\" style = \"text-align: left;\">String15</th><th title = \"String15\" style = \"text-align: left;\">String15</th><th title = \"Int64\" style = \"text-align: left;\">Int64</th><th title = \"Int64\" style = \"text-align: left;\">Int64</th><th title = \"String15\" style = \"text-align: left;\">String15</th><th title = \"String1\" style = \"text-align: left;\">String1</th><th title = \"String1\" style = \"text-align: left;\">String1</th><th title = \"String\" style = \"text-align: left;\">String</th></tr></thead><tbody><tr><td class = \"rowNumber\" style = \"font-weight: bold; text-align: right;\">1</td><td style = \"text-align: left;\">Phylloglossum_drummondii_mitochondria</td><td style = \"text-align: left;\">Geneious</td><td style = \"text-align: left;\">region</td><td style = \"text-align: right;\">1</td><td style = \"text-align: right;\">363297</td><td style = \"text-align: left;\">.</td><td style = \"text-align: left;\">+</td><td style = \"text-align: left;\">0</td><td style = \"text-align: left;\">Is_circular=true</td></tr><tr><td class = \"rowNumber\" style = \"font-weight: bold; text-align: right;\">2</td><td style = \"text-align: left;\">Phylloglossum_drummondii_mitochondria</td><td style = \"text-align: left;\">Pyrimid</td><td style = \"text-align: left;\">misc_feature</td><td style = \"text-align: right;\">4101</td><td style = \"text-align: right;\">4101</td><td style = \"text-align: left;\">7.16E-206</td><td style = \"text-align: left;\">+</td><td style = \"text-align: left;\">.</td><td style = \"text-align: left;\">note=C to U RNA editing (frequency 0.83)</td></tr><tr><td class = \"rowNumber\" style = \"font-weight: bold; text-align: right;\">3</td><td style = \"text-align: left;\">Phylloglossum_drummondii_mitochondria</td><td style = \"text-align: left;\">Geneious</td><td style = \"text-align: left;\">CDS</td><td style = \"text-align: right;\">4441</td><td style = \"text-align: right;\">4815</td><td style = \"text-align: left;\">.</td><td style = \"text-align: left;\">+</td><td style = \"text-align: left;\">0</td><td style = \"text-align: left;\">codon_start=1;gene=rps12</td></tr><tr><td class = \"rowNumber\" style = \"font-weight: bold; text-align: right;\">4</td><td style = \"text-align: left;\">Phylloglossum_drummondii_mitochondria</td><td style = \"text-align: left;\">Geneious</td><td style = \"text-align: left;\">gene</td><td style = \"text-align: right;\">4441</td><td style = \"text-align: right;\">4815</td><td style = \"text-align: left;\">.</td><td style = \"text-align: left;\">+</td><td style = \"text-align: left;\">.</td><td style = \"text-align: left;\">Name=rps12;ID=rps12</td></tr><tr><td class = \"rowNumber\" style = \"font-weight: bold; text-align: right;\">5</td><td style = \"text-align: left;\">Phylloglossum_drummondii_mitochondria</td><td style = \"text-align: left;\">Pyrimid</td><td style = \"text-align: left;\">misc_feature</td><td style = \"text-align: right;\">4495</td><td style = \"text-align: right;\">4495</td><td style = \"text-align: left;\">1.34E-19</td><td style = \"text-align: left;\">+</td><td style = \"text-align: left;\">.</td><td style = \"text-align: left;\">note=C to U RNA editing (frequency 0.23)</td></tr><tr><td class = \"rowNumber\" style = \"font-weight: bold; text-align: right;\">6</td><td style = \"text-align: left;\">Phylloglossum_drummondii_mitochondria</td><td style = \"text-align: left;\">Pyrimid</td><td style = \"text-align: left;\">misc_feature</td><td style = \"text-align: right;\">4614</td><td style = \"text-align: right;\">4614</td><td style = \"text-align: left;\">1.42E-319</td><td style = \"text-align: left;\">+</td><td style = \"text-align: left;\">.</td><td style = \"text-align: left;\">note=C to U RNA editing (frequency 0.76)</td></tr><tr><td class = \"rowNumber\" style = \"font-weight: bold; text-align: right;\">7</td><td style = \"text-align: left;\">Phylloglossum_drummondii_mitochondria</td><td style = \"text-align: left;\">Pyrimid</td><td style = \"text-align: left;\">misc_feature</td><td style = \"text-align: right;\">4661</td><td style = \"text-align: right;\">4661</td><td style = \"text-align: left;\">.</td><td style = \"text-align: left;\">+</td><td style = \"text-align: left;\">.</td><td style = \"text-align: left;\">note=C to U RNA editing (frequency 0.78)</td></tr><tr><td class = \"rowNumber\" style = \"font-weight: bold; text-align: right;\">8</td><td style = \"text-align: left;\">Phylloglossum_drummondii_mitochondria</td><td style = \"text-align: left;\">Pyrimid</td><td style = \"text-align: left;\">misc_feature</td><td style = \"text-align: right;\">5183</td><td style = \"text-align: right;\">5183</td><td style = \"text-align: left;\">1.53E-92</td><td style = \"text-align: left;\">+</td><td style = \"text-align: left;\">.</td><td style = \"text-align: left;\">note=C to U RNA editing (frequency 0.37)</td></tr><tr><td class = \"rowNumber\" style = \"font-weight: bold; text-align: right;\">9</td><td style = \"text-align: left;\">Phylloglossum_drummondii_mitochondria</td><td style = \"text-align: left;\">Pyrimid</td><td style = \"text-align: left;\">misc_feature</td><td style = \"text-align: right;\">5647</td><td style = \"text-align: right;\">5647</td><td style = \"text-align: left;\">4.23E-13</td><td style = \"text-align: left;\">+</td><td style = \"text-align: left;\">.</td><td style = \"text-align: left;\">note=C to U RNA editing (frequency 0.20)</td></tr><tr><td class = \"rowNumber\" style = \"font-weight: bold; text-align: right;\">10</td><td style = \"text-align: left;\">Phylloglossum_drummondii_mitochondria</td><td style = \"text-align: left;\">Pyrimid</td><td style = \"text-align: left;\">misc_feature</td><td style = \"text-align: right;\">6996</td><td style = \"text-align: right;\">6996</td><td style = \"text-align: left;\">1.69E-11</td><td style = \"text-align: left;\">+</td><td style = \"text-align: left;\">.</td><td style = \"text-align: left;\">note=C to U RNA editing (frequency 0.14)</td></tr><tr><td class = \"rowNumber\" style = \"font-weight: bold; text-align: right;\">11</td><td style = \"text-align: left;\">Phylloglossum_drummondii_mitochondria</td><td style = \"text-align: left;\">Pyrimid</td><td style = \"text-align: left;\">misc_feature</td><td style = \"text-align: right;\">7449</td><td style = \"text-align: right;\">7449</td><td style = \"text-align: left;\">3.28E-92</td><td style = \"text-align: left;\">+</td><td style = \"text-align: left;\">.</td><td style = \"text-align: left;\">note=C to U RNA editing (frequency 0.63)</td></tr><tr><td class = \"rowNumber\" style = \"font-weight: bold; text-align: right;\">12</td><td style = \"text-align: left;\">Phylloglossum_drummondii_mitochondria</td><td style = \"text-align: left;\">Geneious</td><td style = \"text-align: left;\">CDS</td><td style = \"text-align: right;\">7505</td><td style = \"text-align: right;\">7675</td><td style = \"text-align: left;\">.</td><td style = \"text-align: left;\">+</td><td style = \"text-align: left;\">0</td><td style = \"text-align: left;\">codon_start=1;gene=cox3</td></tr><tr><td class = \"rowNumber\" style = \"font-weight: bold; text-align: right;\">13</td><td style = \"text-align: left;\">Phylloglossum_drummondii_mitochondria</td><td style = \"text-align: left;\">Geneious</td><td style = \"text-align: left;\">CDS</td><td style = \"text-align: right;\">8453</td><td style = \"text-align: right;\">9079</td><td style = \"text-align: left;\">.</td><td style = \"text-align: left;\">+</td><td style = \"text-align: left;\">0</td><td style = \"text-align: left;\">codon_start=1;gene=cox3</td></tr><tr><td style = \"text-align: right;\">&vellip;</td><td style = \"text-align: right;\">&vellip;</td><td style = \"text-align: right;\">&vellip;</td><td style = \"text-align: right;\">&vellip;</td><td style = \"text-align: right;\">&vellip;</td><td style = \"text-align: right;\">&vellip;</td><td style = \"text-align: right;\">&vellip;</td><td style = \"text-align: right;\">&vellip;</td><td style = \"text-align: right;\">&vellip;</td><td style = \"text-align: right;\">&vellip;</td></tr><tr><td class = \"rowNumber\" style = \"font-weight: bold; text-align: right;\">574</td><td style = \"text-align: left;\">Phylloglossum_drummondii_mitochondria</td><td style = \"text-align: left;\">Pyrimid</td><td style = \"text-align: left;\">misc_feature</td><td style = \"text-align: right;\">351011</td><td style = \"text-align: right;\">351011</td><td style = \"text-align: left;\">.</td><td style = \"text-align: left;\">+</td><td style = \"text-align: left;\">.</td><td style = \"text-align: left;\">note=C to U RNA editing (frequency 0.98)</td></tr><tr><td class = \"rowNumber\" style = \"font-weight: bold; text-align: right;\">575</td><td style = \"text-align: left;\">Phylloglossum_drummondii_mitochondria</td><td style = \"text-align: left;\">Pyrimid</td><td style = \"text-align: left;\">misc_feature</td><td style = \"text-align: right;\">351026</td><td style = \"text-align: right;\">351026</td><td style = \"text-align: left;\">.</td><td style = \"text-align: left;\">+</td><td style = \"text-align: left;\">.</td><td style = \"text-align: left;\">note=C to U RNA editing (frequency 0.98)</td></tr><tr><td class = \"rowNumber\" style = \"font-weight: bold; text-align: right;\">576</td><td style = \"text-align: left;\">Phylloglossum_drummondii_mitochondria</td><td style = \"text-align: left;\">Pyrimid</td><td style = \"text-align: left;\">misc_feature</td><td style = \"text-align: right;\">351030</td><td style = \"text-align: right;\">351030</td><td style = \"text-align: left;\">.</td><td style = \"text-align: left;\">+</td><td style = \"text-align: left;\">.</td><td style = \"text-align: left;\">note=C to U RNA editing (frequency 0.50)</td></tr><tr><td class = \"rowNumber\" style = \"font-weight: bold; text-align: right;\">577</td><td style = \"text-align: left;\">Phylloglossum_drummondii_mitochondria</td><td style = \"text-align: left;\">Pyrimid</td><td style = \"text-align: left;\">misc_feature</td><td style = \"text-align: right;\">351164</td><td style = \"text-align: right;\">351164</td><td style = \"text-align: left;\">.</td><td style = \"text-align: left;\">+</td><td style = \"text-align: left;\">.</td><td style = \"text-align: left;\">note=C to U RNA editing (frequency 0.99)</td></tr><tr><td class = \"rowNumber\" style = \"font-weight: bold; text-align: right;\">578</td><td style = \"text-align: left;\">Phylloglossum_drummondii_mitochondria</td><td style = \"text-align: left;\">Geneious</td><td style = \"text-align: left;\">intron</td><td style = \"text-align: right;\">351251</td><td style = \"text-align: right;\">353763</td><td style = \"text-align: left;\">.</td><td style = \"text-align: left;\">+</td><td style = \"text-align: left;\">.</td><td style = \"text-align: left;\">ID=intron;gene=cox2</td></tr><tr><td class = \"rowNumber\" style = \"font-weight: bold; text-align: right;\">579</td><td style = \"text-align: left;\">Phylloglossum_drummondii_mitochondria</td><td style = \"text-align: left;\">Pyrimid</td><td style = \"text-align: left;\">misc_feature</td><td style = \"text-align: right;\">352269</td><td style = \"text-align: right;\">352269</td><td style = \"text-align: left;\">1.37E-9</td><td style = \"text-align: left;\">+</td><td style = \"text-align: left;\">.</td><td style = \"text-align: left;\">note=C to U RNA editing (frequency 0.21)</td></tr><tr><td class = \"rowNumber\" style = \"font-weight: bold; text-align: right;\">580</td><td style = \"text-align: left;\">Phylloglossum_drummondii_mitochondria</td><td style = \"text-align: left;\">Pyrimid</td><td style = \"text-align: left;\">misc_feature</td><td style = \"text-align: right;\">353805</td><td style = \"text-align: right;\">353805</td><td style = \"text-align: left;\">.</td><td style = \"text-align: left;\">+</td><td style = \"text-align: left;\">.</td><td style = \"text-align: left;\">note=C to U RNA editing (frequency 0.90)</td></tr><tr><td class = \"rowNumber\" style = \"font-weight: bold; text-align: right;\">581</td><td style = \"text-align: left;\">Phylloglossum_drummondii_mitochondria</td><td style = \"text-align: left;\">Pyrimid</td><td style = \"text-align: left;\">misc_feature</td><td style = \"text-align: right;\">353826</td><td style = \"text-align: right;\">353826</td><td style = \"text-align: left;\">.</td><td style = \"text-align: left;\">+</td><td style = \"text-align: left;\">.</td><td style = \"text-align: left;\">note=C to U RNA editing (frequency 0.99)</td></tr><tr><td class = \"rowNumber\" style = \"font-weight: bold; text-align: right;\">582</td><td style = \"text-align: left;\">Phylloglossum_drummondii_mitochondria</td><td style = \"text-align: left;\">Geneious</td><td style = \"text-align: left;\">tRNA</td><td style = \"text-align: right;\">360873</td><td style = \"text-align: right;\">360946</td><td style = \"text-align: left;\">.</td><td style = \"text-align: left;\">-</td><td style = \"text-align: left;\">.</td><td style = \"text-align: left;\">gene=trnR-ACG-2;Name=trnR-ACG;ID=trnR-ACG</td></tr><tr><td class = \"rowNumber\" style = \"font-weight: bold; text-align: right;\">583</td><td style = \"text-align: left;\">Phylloglossum_drummondii_mitochondria</td><td style = \"text-align: left;\">Geneious</td><td style = \"text-align: left;\">gene</td><td style = \"text-align: right;\">360873</td><td style = \"text-align: right;\">360946</td><td style = \"text-align: left;\">.</td><td style = \"text-align: left;\">-</td><td style = \"text-align: left;\">.</td><td style = \"text-align: left;\">Name=trnR-ACG;ID=trnR-ACG-2</td></tr><tr><td class = \"rowNumber\" style = \"font-weight: bold; text-align: right;\">584</td><td style = \"text-align: left;\">Phylloglossum_drummondii_mitochondria</td><td style = \"text-align: left;\">Geneious</td><td style = \"text-align: left;\">tRNA</td><td style = \"text-align: right;\">361269</td><td style = \"text-align: right;\">361340</td><td style = \"text-align: left;\">.</td><td style = \"text-align: left;\">+</td><td style = \"text-align: left;\">.</td><td style = \"text-align: left;\">gene=trnE-UUC;Name=trnE-UUC;ID=trnE-UUC</td></tr><tr><td class = \"rowNumber\" style = \"font-weight: bold; text-align: right;\">585</td><td style = \"text-align: left;\">Phylloglossum_drummondii_mitochondria</td><td style = \"text-align: left;\">Geneious</td><td style = \"text-align: left;\">gene</td><td style = \"text-align: right;\">361269</td><td style = \"text-align: right;\">361340</td><td style = \"text-align: left;\">.</td><td style = \"text-align: left;\">+</td><td style = \"text-align: left;\">.</td><td style = \"text-align: left;\">Name=trnE-UUC;ID=trnE-UUC</td></tr></tbody></table></div>"
      ],
      "text/latex": [
       "\\begin{tabular}{r|ccccccc}\n",
       "\t& sequence & software & feature & start & stop & score & \\\\\n",
       "\t\\hline\n",
       "\t& String & String15 & String15 & Int64 & Int64 & String15 & \\\\\n",
       "\t\\hline\n",
       "\t1 & Phylloglossum\\_drummondii\\_mitochondria & Geneious & region & 1 & 363297 & . & $\\dots$ \\\\\n",
       "\t2 & Phylloglossum\\_drummondii\\_mitochondria & Pyrimid & misc\\_feature & 4101 & 4101 & 7.16E-206 & $\\dots$ \\\\\n",
       "\t3 & Phylloglossum\\_drummondii\\_mitochondria & Geneious & CDS & 4441 & 4815 & . & $\\dots$ \\\\\n",
       "\t4 & Phylloglossum\\_drummondii\\_mitochondria & Geneious & gene & 4441 & 4815 & . & $\\dots$ \\\\\n",
       "\t5 & Phylloglossum\\_drummondii\\_mitochondria & Pyrimid & misc\\_feature & 4495 & 4495 & 1.34E-19 & $\\dots$ \\\\\n",
       "\t6 & Phylloglossum\\_drummondii\\_mitochondria & Pyrimid & misc\\_feature & 4614 & 4614 & 1.42E-319 & $\\dots$ \\\\\n",
       "\t7 & Phylloglossum\\_drummondii\\_mitochondria & Pyrimid & misc\\_feature & 4661 & 4661 & . & $\\dots$ \\\\\n",
       "\t8 & Phylloglossum\\_drummondii\\_mitochondria & Pyrimid & misc\\_feature & 5183 & 5183 & 1.53E-92 & $\\dots$ \\\\\n",
       "\t9 & Phylloglossum\\_drummondii\\_mitochondria & Pyrimid & misc\\_feature & 5647 & 5647 & 4.23E-13 & $\\dots$ \\\\\n",
       "\t10 & Phylloglossum\\_drummondii\\_mitochondria & Pyrimid & misc\\_feature & 6996 & 6996 & 1.69E-11 & $\\dots$ \\\\\n",
       "\t11 & Phylloglossum\\_drummondii\\_mitochondria & Pyrimid & misc\\_feature & 7449 & 7449 & 3.28E-92 & $\\dots$ \\\\\n",
       "\t12 & Phylloglossum\\_drummondii\\_mitochondria & Geneious & CDS & 7505 & 7675 & . & $\\dots$ \\\\\n",
       "\t13 & Phylloglossum\\_drummondii\\_mitochondria & Geneious & CDS & 8453 & 9079 & . & $\\dots$ \\\\\n",
       "\t14 & Phylloglossum\\_drummondii\\_mitochondria & Geneious & gene & 7505 & 9079 & . & $\\dots$ \\\\\n",
       "\t15 & Phylloglossum\\_drummondii\\_mitochondria & Geneious & intron & 7676 & 8452 & . & $\\dots$ \\\\\n",
       "\t16 & Phylloglossum\\_drummondii\\_mitochondria & Pyrimid & misc\\_feature & 8548 & 8548 & 1.42E-4 & $\\dots$ \\\\\n",
       "\t17 & Phylloglossum\\_drummondii\\_mitochondria & Pyrimid & misc\\_feature & 8568 & 8568 & . & $\\dots$ \\\\\n",
       "\t18 & Phylloglossum\\_drummondii\\_mitochondria & Pyrimid & misc\\_feature & 8573 & 8573 & 2.03E-176 & $\\dots$ \\\\\n",
       "\t19 & Phylloglossum\\_drummondii\\_mitochondria & Pyrimid & misc\\_feature & 8890 & 8890 & 0.00167 & $\\dots$ \\\\\n",
       "\t20 & Phylloglossum\\_drummondii\\_mitochondria & Pyrimid & misc\\_feature & 8934 & 8934 & . & $\\dots$ \\\\\n",
       "\t21 & Phylloglossum\\_drummondii\\_mitochondria & Pyrimid & misc\\_feature & 8940 & 8940 & . & $\\dots$ \\\\\n",
       "\t22 & Phylloglossum\\_drummondii\\_mitochondria & Pyrimid & misc\\_feature & 9044 & 9044 & 4.55E-136 & $\\dots$ \\\\\n",
       "\t23 & Phylloglossum\\_drummondii\\_mitochondria & Pyrimid & misc\\_feature & 9045 & 9045 & . & $\\dots$ \\\\\n",
       "\t24 & Phylloglossum\\_drummondii\\_mitochondria & Pyrimid & misc\\_feature & 9077 & 9077 & . & $\\dots$ \\\\\n",
       "\t$\\dots$ & $\\dots$ & $\\dots$ & $\\dots$ & $\\dots$ & $\\dots$ & $\\dots$ &  \\\\\n",
       "\\end{tabular}\n"
      ],
      "text/plain": [
       "\u001b[1m585×9 DataFrame\u001b[0m\n",
       "\u001b[1m Row \u001b[0m│\u001b[1m sequence                          \u001b[0m\u001b[1m software \u001b[0m\u001b[1m feature      \u001b[0m\u001b[1m start  \u001b[0m\u001b[1m stop\u001b[0m ⋯\n",
       "     │\u001b[90m String                            \u001b[0m\u001b[90m String15 \u001b[0m\u001b[90m String15     \u001b[0m\u001b[90m Int64  \u001b[0m\u001b[90m Int6\u001b[0m ⋯\n",
       "─────┼──────────────────────────────────────────────────────────────────────────\n",
       "   1 │ Phylloglossum_drummondii_mitocho…  Geneious  region             1  3632 ⋯\n",
       "   2 │ Phylloglossum_drummondii_mitocho…  Pyrimid   misc_feature    4101    41\n",
       "   3 │ Phylloglossum_drummondii_mitocho…  Geneious  CDS             4441    48\n",
       "   4 │ Phylloglossum_drummondii_mitocho…  Geneious  gene            4441    48\n",
       "   5 │ Phylloglossum_drummondii_mitocho…  Pyrimid   misc_feature    4495    44 ⋯\n",
       "   6 │ Phylloglossum_drummondii_mitocho…  Pyrimid   misc_feature    4614    46\n",
       "   7 │ Phylloglossum_drummondii_mitocho…  Pyrimid   misc_feature    4661    46\n",
       "   8 │ Phylloglossum_drummondii_mitocho…  Pyrimid   misc_feature    5183    51\n",
       "  ⋮  │                 ⋮                     ⋮           ⋮          ⋮       ⋮  ⋱\n",
       " 579 │ Phylloglossum_drummondii_mitocho…  Pyrimid   misc_feature  352269  3522 ⋯\n",
       " 580 │ Phylloglossum_drummondii_mitocho…  Pyrimid   misc_feature  353805  3538\n",
       " 581 │ Phylloglossum_drummondii_mitocho…  Pyrimid   misc_feature  353826  3538\n",
       " 582 │ Phylloglossum_drummondii_mitocho…  Geneious  tRNA          360873  3609\n",
       " 583 │ Phylloglossum_drummondii_mitocho…  Geneious  gene          360873  3609 ⋯\n",
       " 584 │ Phylloglossum_drummondii_mitocho…  Geneious  tRNA          361269  3613\n",
       " 585 │ Phylloglossum_drummondii_mitocho…  Geneious  gene          361269  3613\n",
       "\u001b[36m                                                  5 columns and 570 rows omitted\u001b[0m"
      ]
     },
     "metadata": {},
     "output_type": "display_data"
    }
   ],
   "source": [
    "ref = FASTA.Reader(open(\"Phylloglossum_drummondii_mitochondria.fasta\")) do infile; first(infile); end\n",
    "refseq = FASTA.sequence(LongDNA{4}, ref)\n",
    "refseqcomp = complement(refseq)\n",
    "\n",
    "gff = CSV.File(\"Phylloglossum_drummondii_mitochondria.gff\", comment = \"#\", header = [\"sequence\", \"software\", \"feature\", \"start\", \"stop\", \"score\", \"strand\", \"phase\", \"attributes\"]) |> DataFrame"
   ]
  },
  {
   "cell_type": "code",
   "execution_count": 20,
   "metadata": {},
   "outputs": [
    {
     "data": {
      "text/plain": [
       "80-element Vector{Gene}:\n",
       " Gene(\"rps12\", Feature(\"gene\", 4441, 4815, '+', 0, Dict(\"Name\" => \"rps12\", \"ID\" => \"rps12\")), Feature[], Feature[], Feature[], Feature[], Feature[], Feature[], Feature[], Feature[])\n",
       " Gene(\"cox3\", Feature(\"gene\", 7505, 9079, '+', 0, Dict(\"Name\" => \"cox3\", \"ID\" => \"cox3\")), Feature[], Feature[], Feature[], Feature[], Feature[], Feature[], Feature[], Feature[])\n",
       " Gene(\"cox1\", Feature(\"gene\", 17633, 26147, '-', 0, Dict(\"Name\" => \"cox1\", \"ID\" => \"cox1\")), Feature[], Feature[], Feature[], Feature[], Feature[], Feature[], Feature[], Feature[])\n",
       " Gene(\"atp4\", Feature(\"gene\", 28349, 28921, '-', 0, Dict(\"Name\" => \"atp4\", \"ID\" => \"atp4\")), Feature[], Feature[], Feature[], Feature[], Feature[], Feature[], Feature[], Feature[])\n",
       " Gene(\"trnK-UUU\", Feature(\"gene\", 30526, 30598, '-', 0, Dict(\"Name\" => \"trnK-UUU\", \"ID\" => \"trnK-UUU\")), Feature[], Feature[], Feature[], Feature[], Feature[], Feature[], Feature[], Feature[])\n",
       " Gene(\"trnS-GGA\", Feature(\"gene\", 35833, 35920, '-', 0, Dict(\"Name\" => \"trnS-GGA\", \"ID\" => \"trnS-GGA\")), Feature[], Feature[], Feature[], Feature[], Feature[], Feature[], Feature[], Feature[])\n",
       " Gene(\"trnS-GCU\", Feature(\"gene\", 39630, 39716, '-', 0, Dict(\"Name\" => \"trnS-GCU\", \"ID\" => \"trnS-GCU\")), Feature[], Feature[], Feature[], Feature[], Feature[], Feature[], Feature[], Feature[])\n",
       " Gene(\"trnL-GAG\", Feature(\"gene\", 45170, 45246, '-', 0, Dict(\"Name\" => \"trnL-GAG\", \"ID\" => \"trnL-GAG\")), Feature[], Feature[], Feature[], Feature[], Feature[], Feature[], Feature[], Feature[])\n",
       " Gene(\"ccmFC_2\", Feature(\"gene\", 51628, 51951, '+', 0, Dict(\"pseudo\" => \"pseudo\", \"Name\" => \"ccmFC_2\", \"ID\" => \"ccmFC_2\")), Feature[], Feature[], Feature[], Feature[], Feature[], Feature[], Feature[], Feature[])\n",
       " Gene(\"trnH-GUG\", Feature(\"gene\", 52528, 52600, '-', 0, Dict(\"Name\" => \"trnH-GUG\", \"ID\" => \"trnH-GUG\")), Feature[], Feature[], Feature[], Feature[], Feature[], Feature[], Feature[], Feature[])\n",
       " ⋮\n",
       " Gene(\"trnW-CCA-2\", Feature(\"gene\", 313456, 313528, '+', 0, Dict(\"Name\" => \"trnW-CCA\", \"ID\" => \"trnW-CCA-2\")), Feature[], Feature[], Feature[], Feature[], Feature[], Feature[], Feature[], Feature[])\n",
       " Gene(\"trnQ-UUG-2\", Feature(\"gene\", 318080, 318151, '-', 0, Dict(\"Name\" => \"trnQ-UUG\", \"ID\" => \"trnQ-UUG-2\")), Feature[], Feature[], Feature[], Feature[], Feature[], Feature[], Feature[], Feature[])\n",
       " Gene(\"trnI-CAU\", Feature(\"gene\", 318863, 318936, '-', 0, Dict(\"Name\" => \"trnI-CAU\", \"ID\" => \"trnI-CAU\")), Feature[], Feature[], Feature[], Feature[], Feature[], Feature[], Feature[], Feature[])\n",
       " Gene(\"trnC-GCA\", Feature(\"gene\", 321941, 322011, '-', 0, Dict(\"Name\" => \"trnC-GCA\", \"ID\" => \"trnC-GCA\")), Feature[], Feature[], Feature[], Feature[], Feature[], Feature[], Feature[], Feature[])\n",
       " Gene(\"trnY-GUA\", Feature(\"gene\", 332547, 332628, '-', 0, Dict(\"Name\" => \"trnY-GUA\", \"ID\" => \"trnY-GUA\")), Feature[], Feature[], Feature[], Feature[], Feature[], Feature[], Feature[], Feature[])\n",
       " Gene(\"tatC\", Feature(\"gene\", 333591, 334331, '+', 0, Dict(\"Name\" => \"tatC\", \"ID\" => \"tatC\")), Feature[], Feature[], Feature[], Feature[], Feature[], Feature[], Feature[], Feature[])\n",
       " Gene(\"cox2\", Feature(\"gene\", 347277, 353828, '+', 0, Dict(\"Name\" => \"cox2\", \"ID\" => \"cox2\")), Feature[], Feature[], Feature[], Feature[], Feature[], Feature[], Feature[], Feature[])\n",
       " Gene(\"trnR-ACG-2\", Feature(\"gene\", 360873, 360946, '-', 0, Dict(\"Name\" => \"trnR-ACG\", \"ID\" => \"trnR-ACG-2\")), Feature[], Feature[], Feature[], Feature[], Feature[], Feature[], Feature[], Feature[])\n",
       " Gene(\"trnE-UUC\", Feature(\"gene\", 361269, 361340, '+', 0, Dict(\"Name\" => \"trnE-UUC\", \"ID\" => \"trnE-UUC\")), Feature[], Feature[], Feature[], Feature[], Feature[], Feature[], Feature[], Feature[])"
      ]
     },
     "metadata": {},
     "output_type": "display_data"
    }
   ],
   "source": [
    "gffgenes = filter(x->x.feature == \"gene\", gff)\n",
    "genes = Gene[]\n",
    "for row in eachrow(gffgenes)\n",
    "    gene = createFeature(row)\n",
    "    id = get(gene.attributes, \"ID\", nothing)\n",
    "    if isnothing(id)\n",
    "        println(\"no ID for \", gene.attributes[\"Name\"])\n",
    "    else\n",
    "        push!(genes, Gene(gene.attributes[\"ID\"], gene, Feature[], Feature[], Feature[], Feature[], Feature[], Feature[], Feature[], Feature[]))\n",
    "    end\n",
    "end\n",
    "genes"
   ]
  },
  {
   "cell_type": "code",
   "execution_count": 21,
   "metadata": {},
   "outputs": [],
   "source": [
    "#check for duplicate genes\n",
    "geneids = [x.id for x in genes]\n",
    "if length(geneids) ≠ length(unique(geneids))\n",
    "    println(\"gene IDs contain duplicates\")\n",
    "    println(filter(x -> last(x) > 1, countmap(geneids)))\n",
    "end"
   ]
  },
  {
   "cell_type": "code",
   "execution_count": 22,
   "metadata": {},
   "outputs": [],
   "source": [
    "add_features(\"tRNA\")\n",
    "add_features(\"rRNA\")\n",
    "add_features(\"ncRNA\")\n",
    "add_features(\"CDS\")\n",
    "for gene in genes\n",
    "    if gene.gene.strand == '-'\n",
    "        reverse!(gene.CDSs)\n",
    "    end\n",
    "end"
   ]
  },
  {
   "cell_type": "code",
   "execution_count": 23,
   "metadata": {},
   "outputs": [
    {
     "data": {
      "text/plain": [
       "80-element Vector{Gene}:\n",
       " Gene(\"rps12\", Feature(\"gene\", 4441, 4815, '+', 0, Dict(\"Name\" => \"rps12\", \"ID\" => \"rps12\")), Feature[], Feature[], Feature[], Feature[], Feature[Feature(\"CDS\", 4441, 4815, '+', 0, Dict(\"gene\" => \"rps12\", \"codon_start\" => \"1\"))], Feature[], Feature[], Feature[])\n",
       " Gene(\"cox3\", Feature(\"gene\", 7505, 9079, '+', 0, Dict(\"Name\" => \"cox3\", \"ID\" => \"cox3\")), Feature[], Feature[], Feature[], Feature[], Feature[Feature(\"CDS\", 7505, 7675, '+', 0, Dict(\"gene\" => \"cox3\", \"codon_start\" => \"1\")), Feature(\"CDS\", 8453, 9079, '+', 0, Dict(\"gene\" => \"cox3\", \"codon_start\" => \"1\"))], Feature[], Feature[], Feature[])\n",
       " Gene(\"cox1\", Feature(\"gene\", 17633, 26147, '-', 0, Dict(\"Name\" => \"cox1\", \"ID\" => \"cox1\")), Feature[], Feature[], Feature[], Feature[], Feature[Feature(\"CDS\", 17633, 18079, '-', 0, Dict(\"gene\" => \"cox1\")), Feature(\"CDS\", 19334, 19487, '-', 0, Dict(\"gene\" => \"cox1\")), Feature(\"CDS\", 22345, 23014, '-', 0, Dict(\"gene\" => \"cox1\")), Feature(\"CDS\", 25823, 26147, '-', 0, Dict(\"gene\" => \"cox1\"))], Feature[], Feature[], Feature[])\n",
       " Gene(\"atp4\", Feature(\"gene\", 28349, 28921, '-', 0, Dict(\"Name\" => \"atp4\", \"ID\" => \"atp4\")), Feature[], Feature[], Feature[], Feature[], Feature[Feature(\"CDS\", 28349, 28921, '-', 0, Dict(\"gene\" => \"atp4\", \"codon_start\" => \"1\"))], Feature[], Feature[], Feature[])\n",
       " Gene(\"trnK-UUU\", Feature(\"gene\", 30526, 30598, '-', 0, Dict(\"Name\" => \"trnK-UUU\", \"ID\" => \"trnK-UUU\")), Feature[], Feature[Feature(\"tRNA\", 30526, 30598, '-', 0, Dict(\"gene\" => \"trnK-UUU\", \"Name\" => \"trnK-UUU\", \"ID\" => \"trnK-UUU\"))], Feature[], Feature[], Feature[], Feature[], Feature[], Feature[])\n",
       " Gene(\"trnS-GGA\", Feature(\"gene\", 35833, 35920, '-', 0, Dict(\"Name\" => \"trnS-GGA\", \"ID\" => \"trnS-GGA\")), Feature[], Feature[Feature(\"tRNA\", 35833, 35920, '-', 0, Dict(\"gene\" => \"trnS-GGA\", \"Name\" => \"trnS-GGA\", \"ID\" => \"trnS-GGA\"))], Feature[], Feature[], Feature[], Feature[], Feature[], Feature[])\n",
       " Gene(\"trnS-GCU\", Feature(\"gene\", 39630, 39716, '-', 0, Dict(\"Name\" => \"trnS-GCU\", \"ID\" => \"trnS-GCU\")), Feature[], Feature[Feature(\"tRNA\", 39630, 39716, '-', 0, Dict(\"gene\" => \"trnS-GCU\", \"Name\" => \"trnS-GCU\", \"ID\" => \"trnS-GCU\"))], Feature[], Feature[], Feature[], Feature[], Feature[], Feature[])\n",
       " Gene(\"trnL-GAG\", Feature(\"gene\", 45170, 45246, '-', 0, Dict(\"Name\" => \"trnL-GAG\", \"ID\" => \"trnL-GAG\")), Feature[], Feature[Feature(\"tRNA\", 45170, 45246, '-', 0, Dict(\"gene\" => \"trnL-GAG\", \"Name\" => \"trnL-GAG\", \"ID\" => \"trnL-GAG\"))], Feature[], Feature[], Feature[], Feature[], Feature[], Feature[])\n",
       " Gene(\"ccmFC_2\", Feature(\"gene\", 51628, 51951, '+', 0, Dict(\"pseudo\" => \"pseudo\", \"Name\" => \"ccmFC_2\", \"ID\" => \"ccmFC_2\")), Feature[], Feature[], Feature[], Feature[], Feature[], Feature[], Feature[], Feature[])\n",
       " Gene(\"trnH-GUG\", Feature(\"gene\", 52528, 52600, '-', 0, Dict(\"Name\" => \"trnH-GUG\", \"ID\" => \"trnH-GUG\")), Feature[], Feature[Feature(\"tRNA\", 52528, 52600, '-', 0, Dict(\"gene\" => \"trnH-GUG\", \"Name\" => \"trnH-GUG\", \"ID\" => \"trnH-GUG\"))], Feature[], Feature[], Feature[], Feature[], Feature[], Feature[])\n",
       " ⋮\n",
       " Gene(\"trnW-CCA-2\", Feature(\"gene\", 313456, 313528, '+', 0, Dict(\"Name\" => \"trnW-CCA\", \"ID\" => \"trnW-CCA-2\")), Feature[], Feature[Feature(\"tRNA\", 313456, 313528, '+', 0, Dict(\"gene\" => \"trnW-CCA-2\", \"Name\" => \"trnW-CCA\", \"ID\" => \"trnW-CCA\"))], Feature[], Feature[], Feature[], Feature[], Feature[], Feature[])\n",
       " Gene(\"trnQ-UUG-2\", Feature(\"gene\", 318080, 318151, '-', 0, Dict(\"Name\" => \"trnQ-UUG\", \"ID\" => \"trnQ-UUG-2\")), Feature[], Feature[Feature(\"tRNA\", 318080, 318151, '-', 0, Dict(\"gene\" => \"trnQ-UUG-2\", \"Name\" => \"trnQ-UUG\", \"ID\" => \"trnQ-UUG\"))], Feature[], Feature[], Feature[], Feature[], Feature[], Feature[])\n",
       " Gene(\"trnI-CAU\", Feature(\"gene\", 318863, 318936, '-', 0, Dict(\"Name\" => \"trnI-CAU\", \"ID\" => \"trnI-CAU\")), Feature[], Feature[Feature(\"tRNA\", 318863, 318936, '-', 0, Dict(\"gene\" => \"trnI-CAU\", \"Name\" => \"trnI-CAU\", \"ID\" => \"trnI-CAU\"))], Feature[], Feature[], Feature[], Feature[], Feature[], Feature[])\n",
       " Gene(\"trnC-GCA\", Feature(\"gene\", 321941, 322011, '-', 0, Dict(\"Name\" => \"trnC-GCA\", \"ID\" => \"trnC-GCA\")), Feature[], Feature[Feature(\"tRNA\", 321941, 322011, '-', 0, Dict(\"gene\" => \"trnC-GCA\", \"Name\" => \"trnC-GCA\", \"ID\" => \"trnC-GCA\"))], Feature[], Feature[], Feature[], Feature[], Feature[], Feature[])\n",
       " Gene(\"trnY-GUA\", Feature(\"gene\", 332547, 332628, '-', 0, Dict(\"Name\" => \"trnY-GUA\", \"ID\" => \"trnY-GUA\")), Feature[], Feature[Feature(\"tRNA\", 332547, 332628, '-', 0, Dict(\"gene\" => \"trnY-GUA\", \"Name\" => \"trnY-GUA\", \"ID\" => \"trnY-GUA\"))], Feature[], Feature[], Feature[], Feature[], Feature[], Feature[])\n",
       " Gene(\"tatC\", Feature(\"gene\", 333591, 334331, '+', 0, Dict(\"Name\" => \"tatC\", \"ID\" => \"tatC\")), Feature[], Feature[], Feature[], Feature[], Feature[Feature(\"CDS\", 333591, 334331, '+', 0, Dict(\"gene\" => \"tatC\", \"codon_start\" => \"1\"))], Feature[], Feature[], Feature[])\n",
       " Gene(\"cox2\", Feature(\"gene\", 347277, 353828, '+', 0, Dict(\"Name\" => \"cox2\", \"ID\" => \"cox2\")), Feature[], Feature[], Feature[], Feature[], Feature[Feature(\"CDS\", 347277, 347379, '+', 0, Dict(\"gene\" => \"cox2\", \"codon_start\" => \"1\")), Feature(\"CDS\", 348397, 348675, '+', 0, Dict(\"gene\" => \"cox2\", \"codon_start\" => \"1\")), Feature(\"CDS\", 350933, 351250, '+', 0, Dict(\"gene\" => \"cox2\", \"codon_start\" => \"1\")), Feature(\"CDS\", 353764, 353828, '+', 0, Dict(\"gene\" => \"cox2\", \"codon_start\" => \"1\"))], Feature[], Feature[], Feature[])\n",
       " Gene(\"trnR-ACG-2\", Feature(\"gene\", 360873, 360946, '-', 0, Dict(\"Name\" => \"trnR-ACG\", \"ID\" => \"trnR-ACG-2\")), Feature[], Feature[Feature(\"tRNA\", 360873, 360946, '-', 0, Dict(\"gene\" => \"trnR-ACG-2\", \"Name\" => \"trnR-ACG\", \"ID\" => \"trnR-ACG\"))], Feature[], Feature[], Feature[], Feature[], Feature[], Feature[])\n",
       " Gene(\"trnE-UUC\", Feature(\"gene\", 361269, 361340, '+', 0, Dict(\"Name\" => \"trnE-UUC\", \"ID\" => \"trnE-UUC\")), Feature[], Feature[Feature(\"tRNA\", 361269, 361340, '+', 0, Dict(\"gene\" => \"trnE-UUC\", \"Name\" => \"trnE-UUC\", \"ID\" => \"trnE-UUC\"))], Feature[], Feature[], Feature[], Feature[], Feature[], Feature[])"
      ]
     },
     "metadata": {},
     "output_type": "display_data"
    }
   ],
   "source": [
    "genes"
   ]
  },
  {
   "cell_type": "code",
   "execution_count": 24,
   "metadata": {},
   "outputs": [
    {
     "data": {
      "text/plain": [
       "calculate_codon_position (generic function with 1 method)"
      ]
     },
     "metadata": {},
     "output_type": "display_data"
    }
   ],
   "source": [
    "function calculate_codon_position(gene::Gene, position::Int)\n",
    "    @assert position >= gene.gene.start && position <= gene.gene.stop\n",
    "    sort!(gene.CDSs, by=x->x.start)\n",
    "    if gene.gene.strand == '-'; reverse!(gene.CDSs); end\n",
    "    seq = LongDNA{4}()\n",
    "    cds_position = 0\n",
    "    in_cds = false\n",
    "    for cds in gene.CDSs\n",
    "        if gene.gene.strand == '+' && position >= cds.stop\n",
    "            cds_position += cds.stop - cds.start + 1\n",
    "        elseif gene.gene.strand == '-' && position <= cds.start\n",
    "            cds_position += cds.stop - cds.start + 1\n",
    "        elseif gene.gene.strand == '+' && position >= cds.start\n",
    "            cds_position += position - cds.start + 1\n",
    "            in_cds = true\n",
    "        elseif gene.gene.strand == '-' && position <= cds.stop\n",
    "            cds_position += cds.stop - position + 1\n",
    "            in_cds = true\n",
    "        end\n",
    "        append!(seq, gene.gene.strand == '+' ? LongDNA{4}(refseq[cds.start:cds.stop]) : reverse_complement(LongDNA{4}(refseq[cds.start:cds.stop])))\n",
    "    end\n",
    "    codon_no = codon_position = 0\n",
    "    codon = LongDNA{4}([DNA_Gap, DNA_Gap, DNA_Gap])\n",
    "    if in_cds\n",
    "        codon_no = ceil(Int, cds_position/3.0)\n",
    "        codon_position = cds_position - 3 * (codon_no - 1)\n",
    "        codon = seq[3 * codon_no - 2:3 * codon_no]\n",
    "    else\n",
    "        cds_position = gene.gene.strand == '+' ? position - gene.gene.start + 1 : gene.gene.stop - position + 1\n",
    "    end\n",
    "    return cds_position, codon_no, codon_position, codon\n",
    "end"
   ]
  },
  {
   "cell_type": "code",
   "execution_count": 25,
   "metadata": {},
   "outputs": [
    {
     "data": {
      "text/plain": [
       "3-element Vector{LongSequence{RNAAlphabet{4}}}:\n",
       " UAA\n",
       " UGA\n",
       " UAG"
      ]
     },
     "metadata": {},
     "output_type": "display_data"
    }
   ],
   "source": [
    "dna_stops = LongDNA{4}.([[DNA_T, DNA_A, DNA_A], [DNA_T, DNA_G, DNA_A], [DNA_T, DNA_A, DNA_G]])\n",
    "rna_stops = convert.(LongRNA{4}, dna_stops)"
   ]
  },
  {
   "cell_type": "code",
   "execution_count": 26,
   "metadata": {},
   "outputs": [
    {
     "data": {
      "text/plain": [
       "prepact_name (generic function with 1 method)"
      ]
     },
     "metadata": {},
     "output_type": "display_data"
    }
   ],
   "source": [
    "function prepact_name(position, gene, base, cds_position, aa, edited_aa)\n",
    "    if ismissing(gene) || haskey(gene.gene.attributes, \"pseudo\") || haskey(gene.gene.attributes, \"pseudogene\")\n",
    "        return string(position) * \"e\" * string(base)\n",
    "    elseif aa == AA_Gap\n",
    "        return gene.id * \"e\" * string(base) * string(cds_position)\n",
    "    else\n",
    "        return gene.id * \"e\" * string(base) * string(cds_position) * string(aa) * string(edited_aa)\n",
    "    end\n",
    "end"
   ]
  },
  {
   "cell_type": "code",
   "execution_count": 27,
   "metadata": {},
   "outputs": [
    {
     "data": {
      "text/html": [
       "<div><div style = \"float: left;\"><span>362×20 DataFrame</span></div><div style = \"float: right;\"><span style = \"font-style: italic;\">337 rows omitted</span></div><div style = \"clear: both;\"></div></div><div class = \"data-frame\" style = \"overflow-x: scroll;\"><table class = \"data-frame\" style = \"margin-bottom: 6px;\"><thead><tr class = \"header\"><th class = \"rowNumber\" style = \"font-weight: bold; text-align: right;\">Row</th><th style = \"text-align: left;\">genome</th><th style = \"text-align: left;\">strand</th><th style = \"text-align: left;\">position</th><th style = \"text-align: left;\">id</th><th style = \"text-align: left;\">reference_base</th><th style = \"text-align: left;\">edited_base</th><th style = \"text-align: left;\">proportion_edited</th><th style = \"text-align: left;\">gene</th><th style = \"text-align: left;\">cds_position</th><th style = \"text-align: left;\">codon_position</th><th style = \"text-align: left;\">codon</th><th style = \"text-align: left;\">edited_codon</th><th style = \"text-align: left;\">aa</th><th style = \"text-align: left;\">edited_aa</th><th style = \"text-align: left;\">synonymous</th><th style = \"text-align: left;\">creates_start</th><th style = \"text-align: left;\">creates_stop</th><th style = \"text-align: left;\">removes_stop</th><th style = \"text-align: left;\">preceding_base</th><th style = \"text-align: left;\">subsequent_base</th></tr><tr class = \"subheader headerLastRow\"><th class = \"rowNumber\" style = \"font-weight: bold; text-align: right;\"></th><th title = \"String\" style = \"text-align: left;\">String</th><th title = \"Char\" style = \"text-align: left;\">Char</th><th title = \"Int64\" style = \"text-align: left;\">Int64</th><th title = \"String\" style = \"text-align: left;\">String</th><th title = \"DNA\" style = \"text-align: left;\">DNA</th><th title = \"RNA\" style = \"text-align: left;\">RNA</th><th title = \"Float64\" style = \"text-align: left;\">Float64</th><th title = \"String\" style = \"text-align: left;\">String</th><th title = \"Int64\" style = \"text-align: left;\">Int64</th><th title = \"Int64\" style = \"text-align: left;\">Int64</th><th title = \"LongSequence{DNAAlphabet{4}}\" style = \"text-align: left;\">LongSequ…</th><th title = \"LongSequence{RNAAlphabet{4}}\" style = \"text-align: left;\">LongSequ…</th><th title = \"AminoAcid\" style = \"text-align: left;\">AminoAcid</th><th title = \"AminoAcid\" style = \"text-align: left;\">AminoAcid</th><th title = \"Union{Missing, Bool}\" style = \"text-align: left;\">Bool?</th><th title = \"Bool\" style = \"text-align: left;\">Bool</th><th title = \"Bool\" style = \"text-align: left;\">Bool</th><th title = \"Bool\" style = \"text-align: left;\">Bool</th><th title = \"RNA\" style = \"text-align: left;\">RNA</th><th title = \"RNA\" style = \"text-align: left;\">RNA</th></tr></thead><tbody><tr><td class = \"rowNumber\" style = \"font-weight: bold; text-align: right;\">1</td><td style = \"text-align: left;\">mt</td><td style = \"text-align: left;\">+</td><td style = \"text-align: right;\">4101</td><td style = \"text-align: left;\">4101eU</td><td style = \"text-align: left;\">C</td><td style = \"text-align: left;\">U</td><td style = \"text-align: right;\">0.8</td><td style = \"text-align: left;\"></td><td style = \"text-align: right;\">0</td><td style = \"text-align: right;\">0</td><td style = \"text-align: left;\">---</td><td style = \"text-align: left;\">---</td><td style = \"text-align: left;\">-</td><td style = \"text-align: left;\">-</td><td style = \"font-style: italic; text-align: right;\">missing</td><td style = \"text-align: right;\">false</td><td style = \"text-align: right;\">false</td><td style = \"text-align: right;\">false</td><td style = \"text-align: left;\">C</td><td style = \"text-align: left;\">G</td></tr><tr><td class = \"rowNumber\" style = \"font-weight: bold; text-align: right;\">2</td><td style = \"text-align: left;\">mt</td><td style = \"text-align: left;\">+</td><td style = \"text-align: right;\">4495</td><td style = \"text-align: left;\">rps12eU55LL</td><td style = \"text-align: left;\">C</td><td style = \"text-align: left;\">U</td><td style = \"text-align: right;\">0.2</td><td style = \"text-align: left;\">rps12</td><td style = \"text-align: right;\">55</td><td style = \"text-align: right;\">1</td><td style = \"text-align: left;\">CTA</td><td style = \"text-align: left;\">UUA</td><td style = \"text-align: left;\">L</td><td style = \"text-align: left;\">L</td><td style = \"text-align: right;\">true</td><td style = \"text-align: right;\">false</td><td style = \"text-align: right;\">false</td><td style = \"text-align: right;\">false</td><td style = \"text-align: left;\">A</td><td style = \"text-align: left;\">U</td></tr><tr><td class = \"rowNumber\" style = \"font-weight: bold; text-align: right;\">3</td><td style = \"text-align: left;\">mt</td><td style = \"text-align: left;\">+</td><td style = \"text-align: right;\">4614</td><td style = \"text-align: left;\">rps12eU174TT</td><td style = \"text-align: left;\">C</td><td style = \"text-align: left;\">U</td><td style = \"text-align: right;\">0.7</td><td style = \"text-align: left;\">rps12</td><td style = \"text-align: right;\">174</td><td style = \"text-align: right;\">3</td><td style = \"text-align: left;\">ACC</td><td style = \"text-align: left;\">ACU</td><td style = \"text-align: left;\">T</td><td style = \"text-align: left;\">T</td><td style = \"text-align: right;\">true</td><td style = \"text-align: right;\">false</td><td style = \"text-align: right;\">false</td><td style = \"text-align: right;\">false</td><td style = \"text-align: left;\">C</td><td style = \"text-align: left;\">A</td></tr><tr><td class = \"rowNumber\" style = \"font-weight: bold; text-align: right;\">4</td><td style = \"text-align: left;\">mt</td><td style = \"text-align: left;\">+</td><td style = \"text-align: right;\">4661</td><td style = \"text-align: left;\">rps12eU221SL</td><td style = \"text-align: left;\">C</td><td style = \"text-align: left;\">U</td><td style = \"text-align: right;\">0.7</td><td style = \"text-align: left;\">rps12</td><td style = \"text-align: right;\">221</td><td style = \"text-align: right;\">2</td><td style = \"text-align: left;\">TCG</td><td style = \"text-align: left;\">UUG</td><td style = \"text-align: left;\">S</td><td style = \"text-align: left;\">L</td><td style = \"text-align: right;\">false</td><td style = \"text-align: right;\">false</td><td style = \"text-align: right;\">false</td><td style = \"text-align: right;\">false</td><td style = \"text-align: left;\">U</td><td style = \"text-align: left;\">G</td></tr><tr><td class = \"rowNumber\" style = \"font-weight: bold; text-align: right;\">5</td><td style = \"text-align: left;\">mt</td><td style = \"text-align: left;\">+</td><td style = \"text-align: right;\">5183</td><td style = \"text-align: left;\">5183eU</td><td style = \"text-align: left;\">C</td><td style = \"text-align: left;\">U</td><td style = \"text-align: right;\">0.3</td><td style = \"text-align: left;\"></td><td style = \"text-align: right;\">0</td><td style = \"text-align: right;\">0</td><td style = \"text-align: left;\">---</td><td style = \"text-align: left;\">---</td><td style = \"text-align: left;\">-</td><td style = \"text-align: left;\">-</td><td style = \"font-style: italic; text-align: right;\">missing</td><td style = \"text-align: right;\">false</td><td style = \"text-align: right;\">false</td><td style = \"text-align: right;\">false</td><td style = \"text-align: left;\">U</td><td style = \"text-align: left;\">A</td></tr><tr><td class = \"rowNumber\" style = \"font-weight: bold; text-align: right;\">6</td><td style = \"text-align: left;\">mt</td><td style = \"text-align: left;\">+</td><td style = \"text-align: right;\">5647</td><td style = \"text-align: left;\">5647eU</td><td style = \"text-align: left;\">C</td><td style = \"text-align: left;\">U</td><td style = \"text-align: right;\">0.2</td><td style = \"text-align: left;\"></td><td style = \"text-align: right;\">0</td><td style = \"text-align: right;\">0</td><td style = \"text-align: left;\">---</td><td style = \"text-align: left;\">---</td><td style = \"text-align: left;\">-</td><td style = \"text-align: left;\">-</td><td style = \"font-style: italic; text-align: right;\">missing</td><td style = \"text-align: right;\">false</td><td style = \"text-align: right;\">false</td><td style = \"text-align: right;\">false</td><td style = \"text-align: left;\">U</td><td style = \"text-align: left;\">A</td></tr><tr><td class = \"rowNumber\" style = \"font-weight: bold; text-align: right;\">7</td><td style = \"text-align: left;\">mt</td><td style = \"text-align: left;\">+</td><td style = \"text-align: right;\">6996</td><td style = \"text-align: left;\">6996eU</td><td style = \"text-align: left;\">C</td><td style = \"text-align: left;\">U</td><td style = \"text-align: right;\">0.1</td><td style = \"text-align: left;\"></td><td style = \"text-align: right;\">0</td><td style = \"text-align: right;\">0</td><td style = \"text-align: left;\">---</td><td style = \"text-align: left;\">---</td><td style = \"text-align: left;\">-</td><td style = \"text-align: left;\">-</td><td style = \"font-style: italic; text-align: right;\">missing</td><td style = \"text-align: right;\">false</td><td style = \"text-align: right;\">false</td><td style = \"text-align: right;\">false</td><td style = \"text-align: left;\">C</td><td style = \"text-align: left;\">U</td></tr><tr><td class = \"rowNumber\" style = \"font-weight: bold; text-align: right;\">8</td><td style = \"text-align: left;\">mt</td><td style = \"text-align: left;\">+</td><td style = \"text-align: right;\">7449</td><td style = \"text-align: left;\">7449eU</td><td style = \"text-align: left;\">C</td><td style = \"text-align: left;\">U</td><td style = \"text-align: right;\">0.6</td><td style = \"text-align: left;\"></td><td style = \"text-align: right;\">0</td><td style = \"text-align: right;\">0</td><td style = \"text-align: left;\">---</td><td style = \"text-align: left;\">---</td><td style = \"text-align: left;\">-</td><td style = \"text-align: left;\">-</td><td style = \"font-style: italic; text-align: right;\">missing</td><td style = \"text-align: right;\">false</td><td style = \"text-align: right;\">false</td><td style = \"text-align: right;\">false</td><td style = \"text-align: left;\">A</td><td style = \"text-align: left;\">U</td></tr><tr><td class = \"rowNumber\" style = \"font-weight: bold; text-align: right;\">9</td><td style = \"text-align: left;\">mt</td><td style = \"text-align: left;\">+</td><td style = \"text-align: right;\">8548</td><td style = \"text-align: left;\">cox3eU267FF</td><td style = \"text-align: left;\">C</td><td style = \"text-align: left;\">U</td><td style = \"text-align: right;\">0.1</td><td style = \"text-align: left;\">cox3</td><td style = \"text-align: right;\">267</td><td style = \"text-align: right;\">3</td><td style = \"text-align: left;\">TTC</td><td style = \"text-align: left;\">UUU</td><td style = \"text-align: left;\">F</td><td style = \"text-align: left;\">F</td><td style = \"text-align: right;\">true</td><td style = \"text-align: right;\">false</td><td style = \"text-align: right;\">false</td><td style = \"text-align: right;\">false</td><td style = \"text-align: left;\">U</td><td style = \"text-align: left;\">A</td></tr><tr><td class = \"rowNumber\" style = \"font-weight: bold; text-align: right;\">10</td><td style = \"text-align: left;\">mt</td><td style = \"text-align: left;\">+</td><td style = \"text-align: right;\">8568</td><td style = \"text-align: left;\">cox3eU287SF</td><td style = \"text-align: left;\">C</td><td style = \"text-align: left;\">U</td><td style = \"text-align: right;\">0.9</td><td style = \"text-align: left;\">cox3</td><td style = \"text-align: right;\">287</td><td style = \"text-align: right;\">2</td><td style = \"text-align: left;\">TCT</td><td style = \"text-align: left;\">UUU</td><td style = \"text-align: left;\">S</td><td style = \"text-align: left;\">F</td><td style = \"text-align: right;\">false</td><td style = \"text-align: right;\">false</td><td style = \"text-align: right;\">false</td><td style = \"text-align: right;\">false</td><td style = \"text-align: left;\">U</td><td style = \"text-align: left;\">U</td></tr><tr><td class = \"rowNumber\" style = \"font-weight: bold; text-align: right;\">11</td><td style = \"text-align: left;\">mt</td><td style = \"text-align: left;\">+</td><td style = \"text-align: right;\">8573</td><td style = \"text-align: left;\">cox3eU292LL</td><td style = \"text-align: left;\">C</td><td style = \"text-align: left;\">U</td><td style = \"text-align: right;\">0.2</td><td style = \"text-align: left;\">cox3</td><td style = \"text-align: right;\">292</td><td style = \"text-align: right;\">1</td><td style = \"text-align: left;\">CTA</td><td style = \"text-align: left;\">UUA</td><td style = \"text-align: left;\">L</td><td style = \"text-align: left;\">L</td><td style = \"text-align: right;\">true</td><td style = \"text-align: right;\">false</td><td style = \"text-align: right;\">false</td><td style = \"text-align: right;\">false</td><td style = \"text-align: left;\">U</td><td style = \"text-align: left;\">U</td></tr><tr><td class = \"rowNumber\" style = \"font-weight: bold; text-align: right;\">12</td><td style = \"text-align: left;\">mt</td><td style = \"text-align: left;\">+</td><td style = \"text-align: right;\">8890</td><td style = \"text-align: left;\">cox3eU609AA</td><td style = \"text-align: left;\">C</td><td style = \"text-align: left;\">U</td><td style = \"text-align: right;\">0.0</td><td style = \"text-align: left;\">cox3</td><td style = \"text-align: right;\">609</td><td style = \"text-align: right;\">3</td><td style = \"text-align: left;\">GCC</td><td style = \"text-align: left;\">GCU</td><td style = \"text-align: left;\">A</td><td style = \"text-align: left;\">A</td><td style = \"text-align: right;\">true</td><td style = \"text-align: right;\">false</td><td style = \"text-align: right;\">false</td><td style = \"text-align: right;\">false</td><td style = \"text-align: left;\">C</td><td style = \"text-align: left;\">A</td></tr><tr><td class = \"rowNumber\" style = \"font-weight: bold; text-align: right;\">13</td><td style = \"text-align: left;\">mt</td><td style = \"text-align: left;\">+</td><td style = \"text-align: right;\">8934</td><td style = \"text-align: left;\">cox3eU653PL</td><td style = \"text-align: left;\">C</td><td style = \"text-align: left;\">U</td><td style = \"text-align: right;\">0.9</td><td style = \"text-align: left;\">cox3</td><td style = \"text-align: right;\">653</td><td style = \"text-align: right;\">2</td><td style = \"text-align: left;\">CCA</td><td style = \"text-align: left;\">CUA</td><td style = \"text-align: left;\">P</td><td style = \"text-align: left;\">L</td><td style = \"text-align: right;\">false</td><td style = \"text-align: right;\">false</td><td style = \"text-align: right;\">false</td><td style = \"text-align: right;\">false</td><td style = \"text-align: left;\">C</td><td style = \"text-align: left;\">A</td></tr><tr><td style = \"text-align: right;\">&vellip;</td><td style = \"text-align: right;\">&vellip;</td><td style = \"text-align: right;\">&vellip;</td><td style = \"text-align: right;\">&vellip;</td><td style = \"text-align: right;\">&vellip;</td><td style = \"text-align: right;\">&vellip;</td><td style = \"text-align: right;\">&vellip;</td><td style = \"text-align: right;\">&vellip;</td><td style = \"text-align: right;\">&vellip;</td><td style = \"text-align: right;\">&vellip;</td><td style = \"text-align: right;\">&vellip;</td><td style = \"text-align: right;\">&vellip;</td><td style = \"text-align: right;\">&vellip;</td><td style = \"text-align: right;\">&vellip;</td><td style = \"text-align: right;\">&vellip;</td><td style = \"text-align: right;\">&vellip;</td><td style = \"text-align: right;\">&vellip;</td><td style = \"text-align: right;\">&vellip;</td><td style = \"text-align: right;\">&vellip;</td><td style = \"text-align: right;\">&vellip;</td><td style = \"text-align: right;\">&vellip;</td></tr><tr><td class = \"rowNumber\" style = \"font-weight: bold; text-align: right;\">351</td><td style = \"text-align: left;\">mt</td><td style = \"text-align: left;\">+</td><td style = \"text-align: right;\">335876</td><td style = \"text-align: left;\">335876eU</td><td style = \"text-align: left;\">C</td><td style = \"text-align: left;\">U</td><td style = \"text-align: right;\">0.8</td><td style = \"text-align: left;\"></td><td style = \"text-align: right;\">0</td><td style = \"text-align: right;\">0</td><td style = \"text-align: left;\">---</td><td style = \"text-align: left;\">---</td><td style = \"text-align: left;\">-</td><td style = \"text-align: left;\">-</td><td style = \"font-style: italic; text-align: right;\">missing</td><td style = \"text-align: right;\">false</td><td style = \"text-align: right;\">false</td><td style = \"text-align: right;\">false</td><td style = \"text-align: left;\">U</td><td style = \"text-align: left;\">G</td></tr><tr><td class = \"rowNumber\" style = \"font-weight: bold; text-align: right;\">352</td><td style = \"text-align: left;\">mt</td><td style = \"text-align: left;\">+</td><td style = \"text-align: right;\">347274</td><td style = \"text-align: left;\">347274eU</td><td style = \"text-align: left;\">C</td><td style = \"text-align: left;\">U</td><td style = \"text-align: right;\">0.1</td><td style = \"text-align: left;\"></td><td style = \"text-align: right;\">0</td><td style = \"text-align: right;\">0</td><td style = \"text-align: left;\">---</td><td style = \"text-align: left;\">---</td><td style = \"text-align: left;\">-</td><td style = \"text-align: left;\">-</td><td style = \"font-style: italic; text-align: right;\">missing</td><td style = \"text-align: right;\">false</td><td style = \"text-align: right;\">false</td><td style = \"text-align: right;\">false</td><td style = \"text-align: left;\">C</td><td style = \"text-align: left;\">A</td></tr><tr><td class = \"rowNumber\" style = \"font-weight: bold; text-align: right;\">353</td><td style = \"text-align: left;\">mt</td><td style = \"text-align: left;\">+</td><td style = \"text-align: right;\">347319</td><td style = \"text-align: left;\">cox2eU43RC</td><td style = \"text-align: left;\">C</td><td style = \"text-align: left;\">U</td><td style = \"text-align: right;\">0.8</td><td style = \"text-align: left;\">cox2</td><td style = \"text-align: right;\">43</td><td style = \"text-align: right;\">1</td><td style = \"text-align: left;\">CGT</td><td style = \"text-align: left;\">UGU</td><td style = \"text-align: left;\">R</td><td style = \"text-align: left;\">C</td><td style = \"text-align: right;\">false</td><td style = \"text-align: right;\">false</td><td style = \"text-align: right;\">false</td><td style = \"text-align: right;\">false</td><td style = \"text-align: left;\">U</td><td style = \"text-align: left;\">G</td></tr><tr><td class = \"rowNumber\" style = \"font-weight: bold; text-align: right;\">354</td><td style = \"text-align: left;\">mt</td><td style = \"text-align: left;\">+</td><td style = \"text-align: right;\">348430</td><td style = \"text-align: left;\">cox2eU137SF</td><td style = \"text-align: left;\">C</td><td style = \"text-align: left;\">U</td><td style = \"text-align: right;\">0.8</td><td style = \"text-align: left;\">cox2</td><td style = \"text-align: right;\">137</td><td style = \"text-align: right;\">2</td><td style = \"text-align: left;\">TCT</td><td style = \"text-align: left;\">UUU</td><td style = \"text-align: left;\">S</td><td style = \"text-align: left;\">F</td><td style = \"text-align: right;\">false</td><td style = \"text-align: right;\">false</td><td style = \"text-align: right;\">false</td><td style = \"text-align: right;\">false</td><td style = \"text-align: left;\">U</td><td style = \"text-align: left;\">U</td></tr><tr><td class = \"rowNumber\" style = \"font-weight: bold; text-align: right;\">355</td><td style = \"text-align: left;\">mt</td><td style = \"text-align: left;\">+</td><td style = \"text-align: right;\">350981</td><td style = \"text-align: left;\">cox2eU431SF</td><td style = \"text-align: left;\">C</td><td style = \"text-align: left;\">U</td><td style = \"text-align: right;\">0.9</td><td style = \"text-align: left;\">cox2</td><td style = \"text-align: right;\">431</td><td style = \"text-align: right;\">2</td><td style = \"text-align: left;\">TCT</td><td style = \"text-align: left;\">UUU</td><td style = \"text-align: left;\">S</td><td style = \"text-align: left;\">F</td><td style = \"text-align: right;\">false</td><td style = \"text-align: right;\">false</td><td style = \"text-align: right;\">false</td><td style = \"text-align: right;\">false</td><td style = \"text-align: left;\">U</td><td style = \"text-align: left;\">U</td></tr><tr><td class = \"rowNumber\" style = \"font-weight: bold; text-align: right;\">356</td><td style = \"text-align: left;\">mt</td><td style = \"text-align: left;\">+</td><td style = \"text-align: right;\">351011</td><td style = \"text-align: left;\">cox2eU461SL</td><td style = \"text-align: left;\">C</td><td style = \"text-align: left;\">U</td><td style = \"text-align: right;\">0.9</td><td style = \"text-align: left;\">cox2</td><td style = \"text-align: right;\">461</td><td style = \"text-align: right;\">2</td><td style = \"text-align: left;\">TCA</td><td style = \"text-align: left;\">UUA</td><td style = \"text-align: left;\">S</td><td style = \"text-align: left;\">L</td><td style = \"text-align: right;\">false</td><td style = \"text-align: right;\">false</td><td style = \"text-align: right;\">false</td><td style = \"text-align: right;\">false</td><td style = \"text-align: left;\">U</td><td style = \"text-align: left;\">A</td></tr><tr><td class = \"rowNumber\" style = \"font-weight: bold; text-align: right;\">357</td><td style = \"text-align: left;\">mt</td><td style = \"text-align: left;\">+</td><td style = \"text-align: right;\">351026</td><td style = \"text-align: left;\">cox2eU476SL</td><td style = \"text-align: left;\">C</td><td style = \"text-align: left;\">U</td><td style = \"text-align: right;\">0.9</td><td style = \"text-align: left;\">cox2</td><td style = \"text-align: right;\">476</td><td style = \"text-align: right;\">2</td><td style = \"text-align: left;\">TCA</td><td style = \"text-align: left;\">UUA</td><td style = \"text-align: left;\">S</td><td style = \"text-align: left;\">L</td><td style = \"text-align: right;\">false</td><td style = \"text-align: right;\">false</td><td style = \"text-align: right;\">false</td><td style = \"text-align: right;\">false</td><td style = \"text-align: left;\">U</td><td style = \"text-align: left;\">A</td></tr><tr><td class = \"rowNumber\" style = \"font-weight: bold; text-align: right;\">358</td><td style = \"text-align: left;\">mt</td><td style = \"text-align: left;\">+</td><td style = \"text-align: right;\">351030</td><td style = \"text-align: left;\">cox2eU480RR</td><td style = \"text-align: left;\">C</td><td style = \"text-align: left;\">U</td><td style = \"text-align: right;\">0.5</td><td style = \"text-align: left;\">cox2</td><td style = \"text-align: right;\">480</td><td style = \"text-align: right;\">3</td><td style = \"text-align: left;\">CGC</td><td style = \"text-align: left;\">CGU</td><td style = \"text-align: left;\">R</td><td style = \"text-align: left;\">R</td><td style = \"text-align: right;\">true</td><td style = \"text-align: right;\">false</td><td style = \"text-align: right;\">false</td><td style = \"text-align: right;\">false</td><td style = \"text-align: left;\">G</td><td style = \"text-align: left;\">U</td></tr><tr><td class = \"rowNumber\" style = \"font-weight: bold; text-align: right;\">359</td><td style = \"text-align: left;\">mt</td><td style = \"text-align: left;\">+</td><td style = \"text-align: right;\">351164</td><td style = \"text-align: left;\">cox2eU614SL</td><td style = \"text-align: left;\">C</td><td style = \"text-align: left;\">U</td><td style = \"text-align: right;\">0.9</td><td style = \"text-align: left;\">cox2</td><td style = \"text-align: right;\">614</td><td style = \"text-align: right;\">2</td><td style = \"text-align: left;\">TCG</td><td style = \"text-align: left;\">UUG</td><td style = \"text-align: left;\">S</td><td style = \"text-align: left;\">L</td><td style = \"text-align: right;\">false</td><td style = \"text-align: right;\">false</td><td style = \"text-align: right;\">false</td><td style = \"text-align: right;\">false</td><td style = \"text-align: left;\">U</td><td style = \"text-align: left;\">G</td></tr><tr><td class = \"rowNumber\" style = \"font-weight: bold; text-align: right;\">360</td><td style = \"text-align: left;\">mt</td><td style = \"text-align: left;\">+</td><td style = \"text-align: right;\">352269</td><td style = \"text-align: left;\">cox2eU4993</td><td style = \"text-align: left;\">C</td><td style = \"text-align: left;\">U</td><td style = \"text-align: right;\">0.2</td><td style = \"text-align: left;\">cox2</td><td style = \"text-align: right;\">4993</td><td style = \"text-align: right;\">0</td><td style = \"text-align: left;\">---</td><td style = \"text-align: left;\">---</td><td style = \"text-align: left;\">-</td><td style = \"text-align: left;\">-</td><td style = \"font-style: italic; text-align: right;\">missing</td><td style = \"text-align: right;\">false</td><td style = \"text-align: right;\">false</td><td style = \"text-align: right;\">false</td><td style = \"text-align: left;\">A</td><td style = \"text-align: left;\">G</td></tr><tr><td class = \"rowNumber\" style = \"font-weight: bold; text-align: right;\">361</td><td style = \"text-align: left;\">mt</td><td style = \"text-align: left;\">+</td><td style = \"text-align: right;\">353805</td><td style = \"text-align: left;\">cox2eU742RW</td><td style = \"text-align: left;\">C</td><td style = \"text-align: left;\">U</td><td style = \"text-align: right;\">0.9</td><td style = \"text-align: left;\">cox2</td><td style = \"text-align: right;\">742</td><td style = \"text-align: right;\">1</td><td style = \"text-align: left;\">CGG</td><td style = \"text-align: left;\">UGG</td><td style = \"text-align: left;\">R</td><td style = \"text-align: left;\">W</td><td style = \"text-align: right;\">false</td><td style = \"text-align: right;\">false</td><td style = \"text-align: right;\">false</td><td style = \"text-align: right;\">false</td><td style = \"text-align: left;\">U</td><td style = \"text-align: left;\">G</td></tr><tr><td class = \"rowNumber\" style = \"font-weight: bold; text-align: right;\">362</td><td style = \"text-align: left;\">mt</td><td style = \"text-align: left;\">+</td><td style = \"text-align: right;\">353826</td><td style = \"text-align: left;\">cox2eU763R*</td><td style = \"text-align: left;\">C</td><td style = \"text-align: left;\">U</td><td style = \"text-align: right;\">0.9</td><td style = \"text-align: left;\">cox2</td><td style = \"text-align: right;\">763</td><td style = \"text-align: right;\">1</td><td style = \"text-align: left;\">CGA</td><td style = \"text-align: left;\">UGA</td><td style = \"text-align: left;\">R</td><td style = \"text-align: left;\">*</td><td style = \"text-align: right;\">false</td><td style = \"text-align: right;\">false</td><td style = \"text-align: right;\">true</td><td style = \"text-align: right;\">false</td><td style = \"text-align: left;\">C</td><td style = \"text-align: left;\">G</td></tr></tbody></table></div>"
      ],
      "text/latex": [
       "\\begin{tabular}{r|cccccccc}\n",
       "\t& genome & strand & position & id & reference\\_base & edited\\_base & proportion\\_edited & \\\\\n",
       "\t\\hline\n",
       "\t& String & Char & Int64 & String & DNA & RNA & Float64 & \\\\\n",
       "\t\\hline\n",
       "\t1 & mt & + & 4101 & 4101eU & C & U & 0.8 & $\\dots$ \\\\\n",
       "\t2 & mt & + & 4495 & rps12eU55LL & C & U & 0.2 & $\\dots$ \\\\\n",
       "\t3 & mt & + & 4614 & rps12eU174TT & C & U & 0.7 & $\\dots$ \\\\\n",
       "\t4 & mt & + & 4661 & rps12eU221SL & C & U & 0.7 & $\\dots$ \\\\\n",
       "\t5 & mt & + & 5183 & 5183eU & C & U & 0.3 & $\\dots$ \\\\\n",
       "\t6 & mt & + & 5647 & 5647eU & C & U & 0.2 & $\\dots$ \\\\\n",
       "\t7 & mt & + & 6996 & 6996eU & C & U & 0.1 & $\\dots$ \\\\\n",
       "\t8 & mt & + & 7449 & 7449eU & C & U & 0.6 & $\\dots$ \\\\\n",
       "\t9 & mt & + & 8548 & cox3eU267FF & C & U & 0.1 & $\\dots$ \\\\\n",
       "\t10 & mt & + & 8568 & cox3eU287SF & C & U & 0.9 & $\\dots$ \\\\\n",
       "\t11 & mt & + & 8573 & cox3eU292LL & C & U & 0.2 & $\\dots$ \\\\\n",
       "\t12 & mt & + & 8890 & cox3eU609AA & C & U & 0.0 & $\\dots$ \\\\\n",
       "\t13 & mt & + & 8934 & cox3eU653PL & C & U & 0.9 & $\\dots$ \\\\\n",
       "\t14 & mt & + & 8940 & cox3eU659TI & C & U & 0.9 & $\\dots$ \\\\\n",
       "\t15 & mt & + & 9044 & cox3eU763PS & C & U & 0.2 & $\\dots$ \\\\\n",
       "\t16 & mt & + & 9045 & cox3eU764PL & C & U & 0.9 & $\\dots$ \\\\\n",
       "\t17 & mt & + & 9077 & cox3eU796R* & C & U & 0.9 & $\\dots$ \\\\\n",
       "\t18 & mt & - & 17946 & cox1eU1283SF & C & U & 1.0 & $\\dots$ \\\\\n",
       "\t19 & mt & - & 17952 & cox1eU1277SL & C & U & 0.9 & $\\dots$ \\\\\n",
       "\t20 & mt & - & 18019 & cox1eU1210PS & C & U & 1.0 & $\\dots$ \\\\\n",
       "\t21 & mt & - & 18051 & cox1eU1178SF & C & U & 0.9 & $\\dots$ \\\\\n",
       "\t22 & mt & - & 18054 & cox1eU1175SL & C & U & 0.9 & $\\dots$ \\\\\n",
       "\t23 & mt & - & 22396 & cox1eU944TI & C & U & 0.9 & $\\dots$ \\\\\n",
       "\t24 & mt & - & 22469 & cox1eU871RW & C & U & 0.9 & $\\dots$ \\\\\n",
       "\t$\\dots$ & $\\dots$ & $\\dots$ & $\\dots$ & $\\dots$ & $\\dots$ & $\\dots$ & $\\dots$ &  \\\\\n",
       "\\end{tabular}\n"
      ],
      "text/plain": [
       "\u001b[1m362×20 DataFrame\u001b[0m\n",
       "\u001b[1m Row \u001b[0m│\u001b[1m genome \u001b[0m\u001b[1m strand \u001b[0m\u001b[1m position \u001b[0m\u001b[1m id           \u001b[0m\u001b[1m reference_base \u001b[0m\u001b[1m edited_base \u001b[0m\u001b[1m pr\u001b[0m ⋯\n",
       "     │\u001b[90m String \u001b[0m\u001b[90m Char   \u001b[0m\u001b[90m Int64    \u001b[0m\u001b[90m String       \u001b[0m\u001b[90m DNA            \u001b[0m\u001b[90m RNA         \u001b[0m\u001b[90m Fl\u001b[0m ⋯\n",
       "─────┼──────────────────────────────────────────────────────────────────────────\n",
       "   1 │ mt      +           4101  4101eU        C               U               ⋯\n",
       "   2 │ mt      +           4495  rps12eU55LL   C               U\n",
       "   3 │ mt      +           4614  rps12eU174TT  C               U\n",
       "   4 │ mt      +           4661  rps12eU221SL  C               U\n",
       "   5 │ mt      +           5183  5183eU        C               U               ⋯\n",
       "   6 │ mt      +           5647  5647eU        C               U\n",
       "   7 │ mt      +           6996  6996eU        C               U\n",
       "   8 │ mt      +           7449  7449eU        C               U\n",
       "  ⋮  │   ⋮       ⋮        ⋮           ⋮              ⋮              ⋮          ⋱\n",
       " 356 │ mt      +         351011  cox2eU461SL   C               U               ⋯\n",
       " 357 │ mt      +         351026  cox2eU476SL   C               U\n",
       " 358 │ mt      +         351030  cox2eU480RR   C               U\n",
       " 359 │ mt      +         351164  cox2eU614SL   C               U\n",
       " 360 │ mt      +         352269  cox2eU4993    C               U               ⋯\n",
       " 361 │ mt      +         353805  cox2eU742RW   C               U\n",
       " 362 │ mt      +         353826  cox2eU763R*   C               U\n",
       "\u001b[36m                                                 14 columns and 347 rows omitted\u001b[0m"
      ]
     },
     "metadata": {},
     "output_type": "display_data"
    }
   ],
   "source": [
    "esites = DataFrame(genome = String[], strand = Char[], position = Int[], id = String[], reference_base = DNA[], edited_base = RNA[], proportion_edited = Float64[], gene = String[], cds_position = Int[], codon_position = Int[],\n",
    "    codon = LongDNA{4}[], edited_codon = LongRNA{4}[], aa = AminoAcid[], edited_aa = AminoAcid[], synonymous = Union{Missing, Bool}[], creates_start = Bool[], creates_stop = Bool[], removes_stop = Bool[],\n",
    "     preceding_base = RNA[], subsequent_base = RNA[])\n",
    "gff_esites = filter(x->occursin(\"RNA editing\", x.attributes), gff)\n",
    "for row in eachrow(gff_esites)\n",
    "    genome = \"mt\"\n",
    "    position = row.start\n",
    "    refbase = refseq[position]\n",
    "    strand = '-'\n",
    "    reference_base = complement(refbase)\n",
    "    if refbase == DNA_C || refbase == DNA_T\n",
    "        strand = '+'\n",
    "        reference_base = refbase\n",
    "    end\n",
    "    edited_base = RNA(row.attributes[11])\n",
    "    if refbase == DNA_C\n",
    "        @assert edited_base == RNA_U\n",
    "    elseif refbase == DNA_T\n",
    "        @assert edited_base == RNA_C\n",
    "    end\n",
    "    proportion_edited = parse(Float64, row.attributes[end-5:end-2])\n",
    "    mygene = missing\n",
    "    gene = \"\"\n",
    "    cds_position = codon_number = codon_position = 0\n",
    "    blank = LongDNA{4}([DNA_Gap, DNA_Gap, DNA_Gap])\n",
    "    codon = blank\n",
    "    for g in genes\n",
    "        if position >= g.gene.start && position <= g.gene.stop && strand == g.gene.strand\n",
    "            mygene = g\n",
    "            gene = mygene.id\n",
    "            cds_position, codon_number, codon_position, codon = calculate_codon_position(mygene, position)\n",
    "            break\n",
    "        end\n",
    "    end\n",
    "    edited_codon = LongRNA{4}([RNA_Gap, RNA_Gap, RNA_Gap])\n",
    "    aa = AA_Gap\n",
    "    edited_aa = AA_Gap\n",
    "    synonymous = missing\n",
    "    creates_start = creates_stop = removes_stop = false\n",
    "    if codon ≠ blank\n",
    "        edited_codon = convert(LongRNA{4}, codon)\n",
    "        edited_codon[codon_position] = edited_base\n",
    "        aa = BioSequences.translate(codon)[1]\n",
    "        edited_aa = BioSequences.translate(edited_codon)[1]\n",
    "        synonymous = aa == edited_aa\n",
    "        creates_start = codon_number == 1 && edited_codon == LongRNA{4}([RNA_A, RNA_U, RNA_G])\n",
    "        creates_stop = position == (strand == '+' ? mygene.gene.stop - 2 : mygene.gene.start + 2)\n",
    "        removes_stop = codon ∈ dna_stops\n",
    "    end\n",
    "    preceding_base = strand == '+' ? refseq[position - 1] : refseqcomp[position + 1]\n",
    "    subsequent_base = strand == '+' ? refseq[position + 1] : refseqcomp[position - 1]\n",
    "    id = prepact_name(position, mygene, edited_base, cds_position, aa, edited_aa)\n",
    "    push!(esites, (genome, strand, position, id, reference_base, edited_base, proportion_edited, gene, cds_position, codon_position, codon, edited_codon, aa, edited_aa,\n",
    "     synonymous, creates_start, creates_stop, removes_stop, preceding_base, subsequent_base))\n",
    "end\n",
    "esites\n"
   ]
  },
  {
   "cell_type": "code",
   "execution_count": 28,
   "metadata": {},
   "outputs": [
    {
     "data": {
      "text/plain": [
       "\"mt editing events.tsv\""
      ]
     },
     "metadata": {},
     "output_type": "display_data"
    }
   ],
   "source": [
    "CSV.write(\"mt editing events.tsv\", esites, delim='\\t')"
   ]
  },
  {
   "cell_type": "code",
   "execution_count": 29,
   "metadata": {},
   "outputs": [
    {
     "data": {
      "text/plain": [
       "362"
      ]
     },
     "metadata": {},
     "output_type": "display_data"
    }
   ],
   "source": [
    "nrow(esites)"
   ]
  },
  {
   "cell_type": "code",
   "execution_count": 30,
   "metadata": {},
   "outputs": [
    {
     "data": {
      "text/plain": [
       "Dict{Int64, Int64} with 4 entries:\n",
       "  0 => 84\n",
       "  2 => 173\n",
       "  3 => 27\n",
       "  1 => 78"
      ]
     },
     "metadata": {},
     "output_type": "display_data"
    }
   ],
   "source": [
    "countmap(esites.codon_position)"
   ]
  },
  {
   "cell_type": "code",
   "execution_count": 32,
   "metadata": {},
   "outputs": [
    {
     "data": {
      "text/plain": [
       "33"
      ]
     },
     "metadata": {},
     "output_type": "display_data"
    }
   ],
   "source": [
    "count(skipmissing(esites.synonymous) .== true)"
   ]
  },
  {
   "cell_type": "code",
   "execution_count": 33,
   "metadata": {},
   "outputs": [
    {
     "data": {
      "text/plain": [
       "Dict{RNA, Int64} with 4 entries:\n",
       "  RNA_C => 106\n",
       "  RNA_U => 204\n",
       "  RNA_A => 43\n",
       "  RNA_G => 9"
      ]
     },
     "metadata": {},
     "output_type": "display_data"
    }
   ],
   "source": [
    "countmap(esites.preceding_base)"
   ]
  },
  {
   "cell_type": "code",
   "execution_count": 18,
   "metadata": {},
   "outputs": [
    {
     "data": {
      "text/plain": [
       "7"
      ]
     },
     "metadata": {},
     "output_type": "display_data"
    }
   ],
   "source": [
    "count(esites.creates_start)"
   ]
  },
  {
   "cell_type": "code",
   "execution_count": 19,
   "metadata": {},
   "outputs": [
    {
     "data": {
      "text/plain": [
       "7"
      ]
     },
     "metadata": {},
     "output_type": "display_data"
    }
   ],
   "source": [
    "count(esites.creates_stop)"
   ]
  },
  {
   "cell_type": "code",
   "execution_count": 20,
   "metadata": {},
   "outputs": [
    {
     "data": {
      "text/plain": [
       "4"
      ]
     },
     "metadata": {},
     "output_type": "display_data"
    }
   ],
   "source": [
    "count(esites.removes_stop)"
   ]
  }
 ],
 "metadata": {
  "kernelspec": {
   "display_name": "Julia 1.9.4",
   "language": "julia",
   "name": "julia-1.9"
  },
  "language_info": {
   "file_extension": ".jl",
   "mimetype": "application/julia",
   "name": "julia",
   "version": "1.9.4"
  }
 },
 "nbformat": 4,
 "nbformat_minor": 2
}
