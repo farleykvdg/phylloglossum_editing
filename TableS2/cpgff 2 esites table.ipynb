{
 "cells": [
  {
   "cell_type": "code",
   "execution_count": 1,
   "metadata": {},
   "outputs": [],
   "source": [
    "using CSV, DataFrames, StatsBase, BioSequences, FASTX"
   ]
  },
  {
   "cell_type": "code",
   "execution_count": 2,
   "metadata": {},
   "outputs": [
    {
     "data": {
      "text/plain": [
       "createFeature (generic function with 1 method)"
      ]
     },
     "metadata": {},
     "output_type": "display_data"
    }
   ],
   "source": [
    "struct Feature\n",
    "    type::String\n",
    "    start::Int\n",
    "    stop::Int\n",
    "    strand::Char\n",
    "    phase::Int\n",
    "    attributes::Dict{String, String}\n",
    "end\n",
    "\n",
    "struct Gene\n",
    "    id::String\n",
    "    gene::Feature\n",
    "    mRNAs::Vector{Feature}\n",
    "    tRNAs::Vector{Feature}\n",
    "    rRNAs::Vector{Feature}\n",
    "    ncRNAs::Vector{Feature}\n",
    "    CDSs::Vector{Feature}\n",
    "    exons::Vector{Feature}\n",
    "    introns::Vector{Feature}\n",
    "    esites::Vector{Feature}\n",
    "end\n",
    "\n",
    "function attributes2dict(attribute_string::String)\n",
    "    dict = Dict{String, String}()\n",
    "    attributes = split(attribute_string, \";\")\n",
    "    for attribute in attributes\n",
    "        kvs = split(attribute, \"=\")\n",
    "        dict[first(kvs)] = last(kvs)\n",
    "    end\n",
    "    dict\n",
    "end\n",
    "\n",
    "function createFeature(row)\n",
    "    Feature(row.feature, row.start, row.stop, row.strand[1], row.phase == \".\" ? 0 : parse(Int, row.phase), attributes2dict(row.attributes))\n",
    "end\n"
   ]
  },
  {
   "cell_type": "code",
   "execution_count": 3,
   "metadata": {},
   "outputs": [
    {
     "data": {
      "text/plain": [
       "add_feature (generic function with 1 method)"
      ]
     },
     "metadata": {},
     "output_type": "display_data"
    }
   ],
   "source": [
    "function add_feature(gene, feature)\n",
    "    #check feature is on same strand as the gene\n",
    "    @assert feature.strand == gene.gene.strand \"strand error: $(string(feature)) $(string(gene.gene))\"\n",
    "    #check feature is within gene\n",
    "    @assert feature.start >= gene.gene.start && feature.stop <= gene.gene.stop \"boundary error: $(string(feature)) $(string(gene.gene))\"\n",
    "    if feature.type == \"mRNA\"\n",
    "        push!(gene.mRNAs, feature)\n",
    "    elseif feature.type == \"tRNA\"\n",
    "        push!(gene.tRNAs, feature)\n",
    "    elseif feature.type == \"rRNA\"\n",
    "        push!(gene.rRNAs, feature)\n",
    "    elseif feature.type == \"ncRNA\"\n",
    "        push!(gene.ncRNAs, feature)\n",
    "    elseif feature.type == \"CDS\"\n",
    "        push!(gene.CDSs, feature)\n",
    "    elseif feature.type == \"exon\"\n",
    "        push!(gene.exons, feature)\n",
    "    elseif feature.type == \"intron\"\n",
    "        push!(gene.introns, feature)\n",
    "    elseif feature.type == \"misc_feature\"\n",
    "        push!(gene.esites, feature)\n",
    "    else\n",
    "        println(\"unknown feature type: \", feature.type)\n",
    "    end\n",
    "end"
   ]
  },
  {
   "cell_type": "code",
   "execution_count": 4,
   "metadata": {},
   "outputs": [
    {
     "data": {
      "text/plain": [
       "add_features (generic function with 1 method)"
      ]
     },
     "metadata": {},
     "output_type": "display_data"
    }
   ],
   "source": [
    "function add_features(feature_type::String)\n",
    "    gff_features = filter(x->x.feature == feature_type, gff)\n",
    "    for row in eachrow(gff_features)\n",
    "        f = createFeature(row)\n",
    "        gene = get(f.attributes, \"gene\", nothing)\n",
    "        if isnothing(gene)\n",
    "            println(\"no gene attribute for \", f.attributes[\"ID\"])\n",
    "        else\n",
    "            mygene = findfirst(x -> x.id == gene, genes) \n",
    "            if isnothing(mygene)\n",
    "                println(\"no gene found matching \", gene)\n",
    "            else\n",
    "                add_feature(genes[mygene], f)\n",
    "            end\n",
    "        end\n",
    "    end\n",
    "end"
   ]
  },
  {
   "cell_type": "code",
   "execution_count": 5,
   "metadata": {},
   "outputs": [
    {
     "data": {
      "text/html": [
       "<div><div style = \"float: left;\"><span>711×9 DataFrame</span></div><div style = \"float: right;\"><span style = \"font-style: italic;\">686 rows omitted</span></div><div style = \"clear: both;\"></div></div><div class = \"data-frame\" style = \"overflow-x: scroll;\"><table class = \"data-frame\" style = \"margin-bottom: 6px;\"><thead><tr class = \"header\"><th class = \"rowNumber\" style = \"font-weight: bold; text-align: right;\">Row</th><th style = \"text-align: left;\">sequence</th><th style = \"text-align: left;\">software</th><th style = \"text-align: left;\">feature</th><th style = \"text-align: left;\">start</th><th style = \"text-align: left;\">stop</th><th style = \"text-align: left;\">score</th><th style = \"text-align: left;\">strand</th><th style = \"text-align: left;\">phase</th><th style = \"text-align: left;\">attributes</th></tr><tr class = \"subheader headerLastRow\"><th class = \"rowNumber\" style = \"font-weight: bold; text-align: right;\"></th><th title = \"String\" style = \"text-align: left;\">String</th><th title = \"String15\" style = \"text-align: left;\">String15</th><th title = \"String15\" style = \"text-align: left;\">String15</th><th title = \"Int64\" style = \"text-align: left;\">Int64</th><th title = \"Int64\" style = \"text-align: left;\">Int64</th><th title = \"String15\" style = \"text-align: left;\">String15</th><th title = \"String1\" style = \"text-align: left;\">String1</th><th title = \"String1\" style = \"text-align: left;\">String1</th><th title = \"String\" style = \"text-align: left;\">String</th></tr></thead><tbody><tr><td class = \"rowNumber\" style = \"font-weight: bold; text-align: right;\">1</td><td style = \"text-align: left;\">Phylloglossum_drummondii_chloroplast</td><td style = \"text-align: left;\">Geneious</td><td style = \"text-align: left;\">region</td><td style = \"text-align: right;\">1</td><td style = \"text-align: right;\">144520</td><td style = \"text-align: left;\">.</td><td style = \"text-align: left;\">+</td><td style = \"text-align: left;\">0</td><td style = \"text-align: left;\">Is_circular=true</td></tr><tr><td class = \"rowNumber\" style = \"font-weight: bold; text-align: right;\">2</td><td style = \"text-align: left;\">Phylloglossum_drummondii_chloroplast</td><td style = \"text-align: left;\">Chloe</td><td style = \"text-align: left;\">intron</td><td style = \"text-align: right;\">290</td><td style = \"text-align: right;\">749</td><td style = \"text-align: left;\">.</td><td style = \"text-align: left;\">+</td><td style = \"text-align: left;\">.</td><td style = \"text-align: left;\">gene=rps12B;ID=rps12B/1/intron/1</td></tr><tr><td class = \"rowNumber\" style = \"font-weight: bold; text-align: right;\">3</td><td style = \"text-align: left;\">Phylloglossum_drummondii_chloroplast</td><td style = \"text-align: left;\">Chloe</td><td style = \"text-align: left;\">gene</td><td style = \"text-align: right;\">290</td><td style = \"text-align: right;\">1007</td><td style = \"text-align: left;\">.</td><td style = \"text-align: left;\">+</td><td style = \"text-align: left;\">.</td><td style = \"text-align: left;\">Name=rps12B;ID=rps12B;NCBI Feature Key=gene</td></tr><tr><td class = \"rowNumber\" style = \"font-weight: bold; text-align: right;\">4</td><td style = \"text-align: left;\">Phylloglossum_drummondii_chloroplast</td><td style = \"text-align: left;\">Pyrimid</td><td style = \"text-align: left;\">misc_feature</td><td style = \"text-align: right;\">737</td><td style = \"text-align: right;\">737</td><td style = \"text-align: left;\">1.02E-295</td><td style = \"text-align: left;\">.</td><td style = \"text-align: left;\">.</td><td style = \"text-align: left;\">note=C to U RNA editing (frequency 0.87)</td></tr><tr><td class = \"rowNumber\" style = \"font-weight: bold; text-align: right;\">5</td><td style = \"text-align: left;\">Phylloglossum_drummondii_chloroplast</td><td style = \"text-align: left;\">Chloe</td><td style = \"text-align: left;\">CDS</td><td style = \"text-align: right;\">750</td><td style = \"text-align: right;\">1007</td><td style = \"text-align: left;\">.</td><td style = \"text-align: left;\">+</td><td style = \"text-align: left;\">0</td><td style = \"text-align: left;\">codon_start=1;gene=rps12B;ID=rps12B/1/CDS/2</td></tr><tr><td class = \"rowNumber\" style = \"font-weight: bold; text-align: right;\">6</td><td style = \"text-align: left;\">Phylloglossum_drummondii_chloroplast</td><td style = \"text-align: left;\">Chloe</td><td style = \"text-align: left;\">mRNA</td><td style = \"text-align: right;\">1060</td><td style = \"text-align: right;\">1512</td><td style = \"text-align: left;\">.</td><td style = \"text-align: left;\">+</td><td style = \"text-align: left;\">.</td><td style = \"text-align: left;\">gene=rps7;ID=rps7.mRNA</td></tr><tr><td class = \"rowNumber\" style = \"font-weight: bold; text-align: right;\">7</td><td style = \"text-align: left;\">Phylloglossum_drummondii_chloroplast</td><td style = \"text-align: left;\">Chloe</td><td style = \"text-align: left;\">CDS</td><td style = \"text-align: right;\">1060</td><td style = \"text-align: right;\">1512</td><td style = \"text-align: left;\">.</td><td style = \"text-align: left;\">+</td><td style = \"text-align: left;\">0</td><td style = \"text-align: left;\">codon_start=1;gene=rps7;ID=rps7/1/CDS/1</td></tr><tr><td class = \"rowNumber\" style = \"font-weight: bold; text-align: right;\">8</td><td style = \"text-align: left;\">Phylloglossum_drummondii_chloroplast</td><td style = \"text-align: left;\">Chloe</td><td style = \"text-align: left;\">gene</td><td style = \"text-align: right;\">1060</td><td style = \"text-align: right;\">1512</td><td style = \"text-align: left;\">.</td><td style = \"text-align: left;\">+</td><td style = \"text-align: left;\">.</td><td style = \"text-align: left;\">Name=rps7;ID=rps7;NCBI Feature Key=gene</td></tr><tr><td class = \"rowNumber\" style = \"font-weight: bold; text-align: right;\">9</td><td style = \"text-align: left;\">Phylloglossum_drummondii_chloroplast</td><td style = \"text-align: left;\">Chloe</td><td style = \"text-align: left;\">mRNA</td><td style = \"text-align: right;\">1784</td><td style = \"text-align: right;\">3947</td><td style = \"text-align: left;\">.</td><td style = \"text-align: left;\">+</td><td style = \"text-align: left;\">.</td><td style = \"text-align: left;\">gene=ndhB;ID=ndhB.mRNA</td></tr><tr><td class = \"rowNumber\" style = \"font-weight: bold; text-align: right;\">10</td><td style = \"text-align: left;\">Phylloglossum_drummondii_chloroplast</td><td style = \"text-align: left;\">Chloe</td><td style = \"text-align: left;\">CDS</td><td style = \"text-align: right;\">1784</td><td style = \"text-align: right;\">2509</td><td style = \"text-align: left;\">.</td><td style = \"text-align: left;\">+</td><td style = \"text-align: left;\">0</td><td style = \"text-align: left;\">codon_start=1;gene=ndhB;ID=ndhB/1/CDS/1</td></tr><tr><td class = \"rowNumber\" style = \"font-weight: bold; text-align: right;\">11</td><td style = \"text-align: left;\">Phylloglossum_drummondii_chloroplast</td><td style = \"text-align: left;\">Chloe</td><td style = \"text-align: left;\">gene</td><td style = \"text-align: right;\">1784</td><td style = \"text-align: right;\">3947</td><td style = \"text-align: left;\">.</td><td style = \"text-align: left;\">+</td><td style = \"text-align: left;\">.</td><td style = \"text-align: left;\">Name=ndhB;ID=ndhB;NCBI Feature Key=gene</td></tr><tr><td class = \"rowNumber\" style = \"font-weight: bold; text-align: right;\">12</td><td style = \"text-align: left;\">Phylloglossum_drummondii_chloroplast</td><td style = \"text-align: left;\">Pyrimid</td><td style = \"text-align: left;\">misc_feature</td><td style = \"text-align: right;\">2178</td><td style = \"text-align: right;\">2178</td><td style = \"text-align: left;\">.</td><td style = \"text-align: left;\">.</td><td style = \"text-align: left;\">.</td><td style = \"text-align: left;\">note=C to U RNA editing (frequency 0.96)</td></tr><tr><td class = \"rowNumber\" style = \"font-weight: bold; text-align: right;\">13</td><td style = \"text-align: left;\">Phylloglossum_drummondii_chloroplast</td><td style = \"text-align: left;\">Pyrimid</td><td style = \"text-align: left;\">misc_feature</td><td style = \"text-align: right;\">2430</td><td style = \"text-align: right;\">2430</td><td style = \"text-align: left;\">.</td><td style = \"text-align: left;\">.</td><td style = \"text-align: left;\">.</td><td style = \"text-align: left;\">note=C to U RNA editing (frequency 0.98)</td></tr><tr><td style = \"text-align: right;\">&vellip;</td><td style = \"text-align: right;\">&vellip;</td><td style = \"text-align: right;\">&vellip;</td><td style = \"text-align: right;\">&vellip;</td><td style = \"text-align: right;\">&vellip;</td><td style = \"text-align: right;\">&vellip;</td><td style = \"text-align: right;\">&vellip;</td><td style = \"text-align: right;\">&vellip;</td><td style = \"text-align: right;\">&vellip;</td><td style = \"text-align: right;\">&vellip;</td></tr><tr><td class = \"rowNumber\" style = \"font-weight: bold; text-align: right;\">700</td><td style = \"text-align: left;\">Phylloglossum_drummondii_chloroplast</td><td style = \"text-align: left;\">Chloe</td><td style = \"text-align: left;\">exon</td><td style = \"text-align: right;\">139908</td><td style = \"text-align: right;\">139945</td><td style = \"text-align: left;\">.</td><td style = \"text-align: left;\">-</td><td style = \"text-align: left;\">.</td><td style = \"text-align: left;\">gene=trnA-UGC-2;ID=trnA-UGC/2/tRNA/1</td></tr><tr><td class = \"rowNumber\" style = \"font-weight: bold; text-align: right;\">701</td><td style = \"text-align: left;\">Phylloglossum_drummondii_chloroplast</td><td style = \"text-align: left;\">Chloe</td><td style = \"text-align: left;\">tRNA</td><td style = \"text-align: right;\">140017</td><td style = \"text-align: right;\">141051</td><td style = \"text-align: left;\">.</td><td style = \"text-align: left;\">-</td><td style = \"text-align: left;\">.</td><td style = \"text-align: left;\">gene=trnI-GAU-2;ID=trnI-GAU-2.tRNA</td></tr><tr><td class = \"rowNumber\" style = \"font-weight: bold; text-align: right;\">702</td><td style = \"text-align: left;\">Phylloglossum_drummondii_chloroplast</td><td style = \"text-align: left;\">Chloe</td><td style = \"text-align: left;\">exon</td><td style = \"text-align: right;\">140017</td><td style = \"text-align: right;\">140051</td><td style = \"text-align: left;\">.</td><td style = \"text-align: left;\">-</td><td style = \"text-align: left;\">.</td><td style = \"text-align: left;\">gene=trnI-GAU-2;ID=trnI-GAU/2/tRNA/3</td></tr><tr><td class = \"rowNumber\" style = \"font-weight: bold; text-align: right;\">703</td><td style = \"text-align: left;\">Phylloglossum_drummondii_chloroplast</td><td style = \"text-align: left;\">Chloe</td><td style = \"text-align: left;\">gene</td><td style = \"text-align: right;\">140017</td><td style = \"text-align: right;\">141051</td><td style = \"text-align: left;\">.</td><td style = \"text-align: left;\">-</td><td style = \"text-align: left;\">.</td><td style = \"text-align: left;\">Name=trnI-GAU;ID=trnI-GAU-2;NCBI Feature Key=gene</td></tr><tr><td class = \"rowNumber\" style = \"font-weight: bold; text-align: right;\">704</td><td style = \"text-align: left;\">Phylloglossum_drummondii_chloroplast</td><td style = \"text-align: left;\">Chloe</td><td style = \"text-align: left;\">intron</td><td style = \"text-align: right;\">140052</td><td style = \"text-align: right;\">141014</td><td style = \"text-align: left;\">.</td><td style = \"text-align: left;\">-</td><td style = \"text-align: left;\">.</td><td style = \"text-align: left;\">gene=trnI-GAU-2;ID=trnI-GAU/2/intron/2</td></tr><tr><td class = \"rowNumber\" style = \"font-weight: bold; text-align: right;\">705</td><td style = \"text-align: left;\">Phylloglossum_drummondii_chloroplast</td><td style = \"text-align: left;\">Chloe</td><td style = \"text-align: left;\">exon</td><td style = \"text-align: right;\">141015</td><td style = \"text-align: right;\">141051</td><td style = \"text-align: left;\">.</td><td style = \"text-align: left;\">-</td><td style = \"text-align: left;\">.</td><td style = \"text-align: left;\">gene=trnI-GAU-2;ID=trnI-GAU/2/tRNA/1</td></tr><tr><td class = \"rowNumber\" style = \"font-weight: bold; text-align: right;\">706</td><td style = \"text-align: left;\">Phylloglossum_drummondii_chloroplast</td><td style = \"text-align: left;\">Chloe</td><td style = \"text-align: left;\">rRNA</td><td style = \"text-align: right;\">141397</td><td style = \"text-align: right;\">142895</td><td style = \"text-align: left;\">.</td><td style = \"text-align: left;\">-</td><td style = \"text-align: left;\">.</td><td style = \"text-align: left;\">gene=rrn16-2;ID=rrn16-2.rRNA</td></tr><tr><td class = \"rowNumber\" style = \"font-weight: bold; text-align: right;\">707</td><td style = \"text-align: left;\">Phylloglossum_drummondii_chloroplast</td><td style = \"text-align: left;\">Chloe</td><td style = \"text-align: left;\">exon</td><td style = \"text-align: right;\">141397</td><td style = \"text-align: right;\">142895</td><td style = \"text-align: left;\">.</td><td style = \"text-align: left;\">-</td><td style = \"text-align: left;\">.</td><td style = \"text-align: left;\">gene=rrn16-2;ID=rrn16/2/rRNA/1</td></tr><tr><td class = \"rowNumber\" style = \"font-weight: bold; text-align: right;\">708</td><td style = \"text-align: left;\">Phylloglossum_drummondii_chloroplast</td><td style = \"text-align: left;\">Chloe</td><td style = \"text-align: left;\">gene</td><td style = \"text-align: right;\">141397</td><td style = \"text-align: right;\">142895</td><td style = \"text-align: left;\">.</td><td style = \"text-align: left;\">-</td><td style = \"text-align: left;\">.</td><td style = \"text-align: left;\">Name=rrn16;ID=rrn16-2;NCBI Feature Key=gene</td></tr><tr><td class = \"rowNumber\" style = \"font-weight: bold; text-align: right;\">709</td><td style = \"text-align: left;\">Phylloglossum_drummondii_chloroplast</td><td style = \"text-align: left;\">Chloe</td><td style = \"text-align: left;\">tRNA</td><td style = \"text-align: right;\">143099</td><td style = \"text-align: right;\">143170</td><td style = \"text-align: left;\">.</td><td style = \"text-align: left;\">-</td><td style = \"text-align: left;\">.</td><td style = \"text-align: left;\">gene=trnV-GAC-2;ID=trnV-GAC-2.tRNA</td></tr><tr><td class = \"rowNumber\" style = \"font-weight: bold; text-align: right;\">710</td><td style = \"text-align: left;\">Phylloglossum_drummondii_chloroplast</td><td style = \"text-align: left;\">Chloe</td><td style = \"text-align: left;\">exon</td><td style = \"text-align: right;\">143099</td><td style = \"text-align: right;\">143170</td><td style = \"text-align: left;\">.</td><td style = \"text-align: left;\">-</td><td style = \"text-align: left;\">.</td><td style = \"text-align: left;\">gene=trnV-GAC-2;ID=trnV-GAC/2/tRNA/1</td></tr><tr><td class = \"rowNumber\" style = \"font-weight: bold; text-align: right;\">711</td><td style = \"text-align: left;\">Phylloglossum_drummondii_chloroplast</td><td style = \"text-align: left;\">Chloe</td><td style = \"text-align: left;\">gene</td><td style = \"text-align: right;\">143099</td><td style = \"text-align: right;\">143170</td><td style = \"text-align: left;\">.</td><td style = \"text-align: left;\">-</td><td style = \"text-align: left;\">.</td><td style = \"text-align: left;\">Name=trnV-GAC;ID=trnV-GAC-2;NCBI Feature Key=gene</td></tr></tbody></table></div>"
      ],
      "text/latex": [
       "\\begin{tabular}{r|ccccccc}\n",
       "\t& sequence & software & feature & start & stop & score & \\\\\n",
       "\t\\hline\n",
       "\t& String & String15 & String15 & Int64 & Int64 & String15 & \\\\\n",
       "\t\\hline\n",
       "\t1 & Phylloglossum\\_drummondii\\_chloroplast & Geneious & region & 1 & 144520 & . & $\\dots$ \\\\\n",
       "\t2 & Phylloglossum\\_drummondii\\_chloroplast & Chloe & intron & 290 & 749 & . & $\\dots$ \\\\\n",
       "\t3 & Phylloglossum\\_drummondii\\_chloroplast & Chloe & gene & 290 & 1007 & . & $\\dots$ \\\\\n",
       "\t4 & Phylloglossum\\_drummondii\\_chloroplast & Pyrimid & misc\\_feature & 737 & 737 & 1.02E-295 & $\\dots$ \\\\\n",
       "\t5 & Phylloglossum\\_drummondii\\_chloroplast & Chloe & CDS & 750 & 1007 & . & $\\dots$ \\\\\n",
       "\t6 & Phylloglossum\\_drummondii\\_chloroplast & Chloe & mRNA & 1060 & 1512 & . & $\\dots$ \\\\\n",
       "\t7 & Phylloglossum\\_drummondii\\_chloroplast & Chloe & CDS & 1060 & 1512 & . & $\\dots$ \\\\\n",
       "\t8 & Phylloglossum\\_drummondii\\_chloroplast & Chloe & gene & 1060 & 1512 & . & $\\dots$ \\\\\n",
       "\t9 & Phylloglossum\\_drummondii\\_chloroplast & Chloe & mRNA & 1784 & 3947 & . & $\\dots$ \\\\\n",
       "\t10 & Phylloglossum\\_drummondii\\_chloroplast & Chloe & CDS & 1784 & 2509 & . & $\\dots$ \\\\\n",
       "\t11 & Phylloglossum\\_drummondii\\_chloroplast & Chloe & gene & 1784 & 3947 & . & $\\dots$ \\\\\n",
       "\t12 & Phylloglossum\\_drummondii\\_chloroplast & Pyrimid & misc\\_feature & 2178 & 2178 & . & $\\dots$ \\\\\n",
       "\t13 & Phylloglossum\\_drummondii\\_chloroplast & Pyrimid & misc\\_feature & 2430 & 2430 & . & $\\dots$ \\\\\n",
       "\t14 & Phylloglossum\\_drummondii\\_chloroplast & Chloe & intron & 2510 & 3188 & . & $\\dots$ \\\\\n",
       "\t15 & Phylloglossum\\_drummondii\\_chloroplast & Chloe & CDS & 3189 & 3947 & . & $\\dots$ \\\\\n",
       "\t16 & Phylloglossum\\_drummondii\\_chloroplast & Pyrimid & misc\\_feature & 3241 & 3241 & . & $\\dots$ \\\\\n",
       "\t17 & Phylloglossum\\_drummondii\\_chloroplast & Pyrimid & misc\\_feature & 3260 & 3260 & . & $\\dots$ \\\\\n",
       "\t18 & Phylloglossum\\_drummondii\\_chloroplast & Pyrimid & misc\\_feature & 3262 & 3262 & . & $\\dots$ \\\\\n",
       "\t19 & Phylloglossum\\_drummondii\\_chloroplast & Pyrimid & misc\\_feature & 3574 & 3574 & . & $\\dots$ \\\\\n",
       "\t20 & Phylloglossum\\_drummondii\\_chloroplast & Pyrimid & misc\\_feature & 3607 & 3607 & . & $\\dots$ \\\\\n",
       "\t21 & Phylloglossum\\_drummondii\\_chloroplast & Pyrimid & misc\\_feature & 3974 & 3974 & 5.03E-73 & $\\dots$ \\\\\n",
       "\t22 & Phylloglossum\\_drummondii\\_chloroplast & Chloe & tRNA & 4759 & 4839 & . & $\\dots$ \\\\\n",
       "\t23 & Phylloglossum\\_drummondii\\_chloroplast & Chloe & exon & 4759 & 4839 & . & $\\dots$ \\\\\n",
       "\t24 & Phylloglossum\\_drummondii\\_chloroplast & Chloe & gene & 4759 & 4839 & . & $\\dots$ \\\\\n",
       "\t$\\dots$ & $\\dots$ & $\\dots$ & $\\dots$ & $\\dots$ & $\\dots$ & $\\dots$ &  \\\\\n",
       "\\end{tabular}\n"
      ],
      "text/plain": [
       "\u001b[1m711×9 DataFrame\u001b[0m\n",
       "\u001b[1m Row \u001b[0m│\u001b[1m sequence                          \u001b[0m\u001b[1m software \u001b[0m\u001b[1m feature      \u001b[0m\u001b[1m start  \u001b[0m\u001b[1m stop\u001b[0m ⋯\n",
       "     │\u001b[90m String                            \u001b[0m\u001b[90m String15 \u001b[0m\u001b[90m String15     \u001b[0m\u001b[90m Int64  \u001b[0m\u001b[90m Int6\u001b[0m ⋯\n",
       "─────┼──────────────────────────────────────────────────────────────────────────\n",
       "   1 │ Phylloglossum_drummondii_chlorop…  Geneious  region             1  1445 ⋯\n",
       "   2 │ Phylloglossum_drummondii_chlorop…  Chloe     intron           290     7\n",
       "   3 │ Phylloglossum_drummondii_chlorop…  Chloe     gene             290    10\n",
       "   4 │ Phylloglossum_drummondii_chlorop…  Pyrimid   misc_feature     737     7\n",
       "   5 │ Phylloglossum_drummondii_chlorop…  Chloe     CDS              750    10 ⋯\n",
       "   6 │ Phylloglossum_drummondii_chlorop…  Chloe     mRNA            1060    15\n",
       "   7 │ Phylloglossum_drummondii_chlorop…  Chloe     CDS             1060    15\n",
       "   8 │ Phylloglossum_drummondii_chlorop…  Chloe     gene            1060    15\n",
       "  ⋮  │                 ⋮                     ⋮           ⋮          ⋮       ⋮  ⋱\n",
       " 705 │ Phylloglossum_drummondii_chlorop…  Chloe     exon          141015  1410 ⋯\n",
       " 706 │ Phylloglossum_drummondii_chlorop…  Chloe     rRNA          141397  1428\n",
       " 707 │ Phylloglossum_drummondii_chlorop…  Chloe     exon          141397  1428\n",
       " 708 │ Phylloglossum_drummondii_chlorop…  Chloe     gene          141397  1428\n",
       " 709 │ Phylloglossum_drummondii_chlorop…  Chloe     tRNA          143099  1431 ⋯\n",
       " 710 │ Phylloglossum_drummondii_chlorop…  Chloe     exon          143099  1431\n",
       " 711 │ Phylloglossum_drummondii_chlorop…  Chloe     gene          143099  1431\n",
       "\u001b[36m                                                  5 columns and 696 rows omitted\u001b[0m"
      ]
     },
     "metadata": {},
     "output_type": "display_data"
    }
   ],
   "source": [
    "ref = FASTA.Reader(open(\"Phylloglossum_drummondii_chloroplast.fasta\")) do infile; first(infile); end\n",
    "refseq = FASTA.sequence(LongDNA{4}, ref)\n",
    "refseqcomp = complement(refseq)\n",
    "\n",
    "gff = CSV.File(\"Phylloglossum_drummondii_chloroplast.gff\", comment = \"#\", header = [\"sequence\", \"software\", \"feature\", \"start\", \"stop\", \"score\", \"strand\", \"phase\", \"attributes\"]) |> DataFrame"
   ]
  },
  {
   "cell_type": "code",
   "execution_count": 6,
   "metadata": {},
   "outputs": [
    {
     "data": {
      "text/plain": [
       "132-element Vector{Gene}:\n",
       " Gene(\"rps12B\", Feature(\"gene\", 290, 1007, '+', 0, Dict(\"NCBI Feature Key\" => \"gene\", \"Name\" => \"rps12B\", \"ID\" => \"rps12B\")), Feature[], Feature[], Feature[], Feature[], Feature[], Feature[], Feature[], Feature[])\n",
       " Gene(\"rps7\", Feature(\"gene\", 1060, 1512, '+', 0, Dict(\"NCBI Feature Key\" => \"gene\", \"Name\" => \"rps7\", \"ID\" => \"rps7\")), Feature[], Feature[], Feature[], Feature[], Feature[], Feature[], Feature[], Feature[])\n",
       " Gene(\"ndhB\", Feature(\"gene\", 1784, 3947, '+', 0, Dict(\"NCBI Feature Key\" => \"gene\", \"Name\" => \"ndhB\", \"ID\" => \"ndhB\")), Feature[], Feature[], Feature[], Feature[], Feature[], Feature[], Feature[], Feature[])\n",
       " Gene(\"trnL-CAA\", Feature(\"gene\", 4759, 4839, '+', 0, Dict(\"NCBI Feature Key\" => \"gene\", \"Name\" => \"trnL-CAA\", \"ID\" => \"trnL-CAA\")), Feature[], Feature[], Feature[], Feature[], Feature[], Feature[], Feature[], Feature[])\n",
       " Gene(\"psbM\", Feature(\"gene\", 5220, 5324, '+', 0, Dict(\"NCBI Feature Key\" => \"gene\", \"Name\" => \"psbM\", \"ID\" => \"psbM\")), Feature[], Feature[], Feature[], Feature[], Feature[], Feature[], Feature[], Feature[])\n",
       " Gene(\"petN\", Feature(\"gene\", 5944, 6033, '-', 0, Dict(\"NCBI Feature Key\" => \"gene\", \"Name\" => \"petN\", \"ID\" => \"petN\")), Feature[], Feature[], Feature[], Feature[], Feature[], Feature[], Feature[], Feature[])\n",
       " Gene(\"ffs\", Feature(\"gene\", 6362, 6468, '+', 0, Dict(\"created_by\" => \"farley\", \"NCBI Feature Key\" => \"gene\", \"Name\" => \"ffs\", \"ID\" => \"ffs\")), Feature[], Feature[], Feature[], Feature[], Feature[], Feature[], Feature[], Feature[])\n",
       " Gene(\"trnC-GCA\", Feature(\"gene\", 6530, 6600, '-', 0, Dict(\"NCBI Feature Key\" => \"gene\", \"Name\" => \"trnC-GCA\", \"ID\" => \"trnC-GCA\")), Feature[], Feature[], Feature[], Feature[], Feature[], Feature[], Feature[], Feature[])\n",
       " Gene(\"rpoB\", Feature(\"gene\", 7006, 10287, '+', 0, Dict(\"NCBI Feature Key\" => \"gene\", \"Name\" => \"rpoB\", \"ID\" => \"rpoB\")), Feature[], Feature[], Feature[], Feature[], Feature[], Feature[], Feature[], Feature[])\n",
       " Gene(\"rpoC1\", Feature(\"gene\", 10366, 13136, '+', 0, Dict(\"NCBI Feature Key\" => \"gene\", \"Name\" => \"rpoC1\", \"ID\" => \"rpoC1\")), Feature[], Feature[], Feature[], Feature[], Feature[], Feature[], Feature[], Feature[])\n",
       " ⋮\n",
       " Gene(\"trnN-GUU-2\", Feature(\"gene\", 133700, 133771, '+', 0, Dict(\"NCBI Feature Key\" => \"gene\", \"Name\" => \"trnN-GUU\", \"ID\" => \"trnN-GUU-2\")), Feature[], Feature[], Feature[], Feature[], Feature[], Feature[], Feature[], Feature[])\n",
       " Gene(\"trnR-ACG-2\", Feature(\"gene\", 134613, 134686, '-', 0, Dict(\"NCBI Feature Key\" => \"gene\", \"Name\" => \"trnR-ACG\", \"ID\" => \"trnR-ACG-2\")), Feature[], Feature[], Feature[], Feature[], Feature[], Feature[], Feature[], Feature[])\n",
       " Gene(\"rrn5-2\", Feature(\"gene\", 134934, 135054, '-', 0, Dict(\"NCBI Feature Key\" => \"gene\", \"Name\" => \"rrn5\", \"ID\" => \"rrn5-2\")), Feature[], Feature[], Feature[], Feature[], Feature[], Feature[], Feature[], Feature[])\n",
       " Gene(\"rrn4.5-2\", Feature(\"gene\", 135293, 135395, '-', 0, Dict(\"NCBI Feature Key\" => \"gene\", \"Name\" => \"rrn4.5\", \"ID\" => \"rrn4.5-2\")), Feature[], Feature[], Feature[], Feature[], Feature[], Feature[], Feature[], Feature[])\n",
       " Gene(\"rrn23-2\", Feature(\"gene\", 135497, 138338, '-', 0, Dict(\"NCBI Feature Key\" => \"gene\", \"Name\" => \"rrn23\", \"ID\" => \"rrn23-2\")), Feature[], Feature[], Feature[], Feature[], Feature[], Feature[], Feature[], Feature[])\n",
       " Gene(\"trnA-UGC-2\", Feature(\"gene\", 139086, 139945, '-', 0, Dict(\"NCBI Feature Key\" => \"gene\", \"Name\" => \"trnA-UGC\", \"ID\" => \"trnA-UGC-2\")), Feature[], Feature[], Feature[], Feature[], Feature[], Feature[], Feature[], Feature[])\n",
       " Gene(\"trnI-GAU-2\", Feature(\"gene\", 140017, 141051, '-', 0, Dict(\"NCBI Feature Key\" => \"gene\", \"Name\" => \"trnI-GAU\", \"ID\" => \"trnI-GAU-2\")), Feature[], Feature[], Feature[], Feature[], Feature[], Feature[], Feature[], Feature[])\n",
       " Gene(\"rrn16-2\", Feature(\"gene\", 141397, 142895, '-', 0, Dict(\"NCBI Feature Key\" => \"gene\", \"Name\" => \"rrn16\", \"ID\" => \"rrn16-2\")), Feature[], Feature[], Feature[], Feature[], Feature[], Feature[], Feature[], Feature[])\n",
       " Gene(\"trnV-GAC-2\", Feature(\"gene\", 143099, 143170, '-', 0, Dict(\"NCBI Feature Key\" => \"gene\", \"Name\" => \"trnV-GAC\", \"ID\" => \"trnV-GAC-2\")), Feature[], Feature[], Feature[], Feature[], Feature[], Feature[], Feature[], Feature[])"
      ]
     },
     "metadata": {},
     "output_type": "display_data"
    }
   ],
   "source": [
    "gffgenes = filter(x->x.feature == \"gene\", gff)\n",
    "genes = Gene[]\n",
    "for row in eachrow(gffgenes)\n",
    "    gene = createFeature(row)\n",
    "    id = get(gene.attributes, \"ID\", nothing)\n",
    "    if isnothing(id)\n",
    "        println(\"no ID for \", gene.attributes[\"Name\"])\n",
    "    else\n",
    "        push!(genes, Gene(gene.attributes[\"ID\"], gene, Feature[], Feature[], Feature[], Feature[], Feature[], Feature[], Feature[], Feature[]))\n",
    "    end\n",
    "end\n",
    "genes"
   ]
  },
  {
   "cell_type": "code",
   "execution_count": 7,
   "metadata": {},
   "outputs": [],
   "source": [
    "#check for duplicate genes\n",
    "geneids = [x.id for x in genes]\n",
    "if length(geneids) ≠ length(unique(geneids))\n",
    "    println(\"gene IDs contain duplicates\")\n",
    "    println(filter(x -> last(x) > 1, countmap(geneids)))\n",
    "end"
   ]
  },
  {
   "cell_type": "code",
   "execution_count": 8,
   "metadata": {},
   "outputs": [],
   "source": [
    "add_features(\"tRNA\")\n",
    "add_features(\"rRNA\")\n",
    "add_features(\"ncRNA\")\n",
    "add_features(\"CDS\")\n",
    "for gene in genes\n",
    "    if gene.gene.strand == '-'\n",
    "        reverse!(gene.CDSs)\n",
    "    end\n",
    "end"
   ]
  },
  {
   "cell_type": "code",
   "execution_count": 9,
   "metadata": {},
   "outputs": [
    {
     "data": {
      "text/plain": [
       "132-element Vector{Gene}:\n",
       " Gene(\"rps12B\", Feature(\"gene\", 290, 1007, '+', 0, Dict(\"NCBI Feature Key\" => \"gene\", \"Name\" => \"rps12B\", \"ID\" => \"rps12B\")), Feature[], Feature[], Feature[], Feature[], Feature[Feature(\"CDS\", 750, 1007, '+', 0, Dict(\"ID\" => \"rps12B/1/CDS/2\", \"gene\" => \"rps12B\", \"codon_start\" => \"1\"))], Feature[], Feature[], Feature[])\n",
       " Gene(\"rps7\", Feature(\"gene\", 1060, 1512, '+', 0, Dict(\"NCBI Feature Key\" => \"gene\", \"Name\" => \"rps7\", \"ID\" => \"rps7\")), Feature[], Feature[], Feature[], Feature[], Feature[Feature(\"CDS\", 1060, 1512, '+', 0, Dict(\"ID\" => \"rps7/1/CDS/1\", \"gene\" => \"rps7\", \"codon_start\" => \"1\"))], Feature[], Feature[], Feature[])\n",
       " Gene(\"ndhB\", Feature(\"gene\", 1784, 3947, '+', 0, Dict(\"NCBI Feature Key\" => \"gene\", \"Name\" => \"ndhB\", \"ID\" => \"ndhB\")), Feature[], Feature[], Feature[], Feature[], Feature[Feature(\"CDS\", 1784, 2509, '+', 0, Dict(\"ID\" => \"ndhB/1/CDS/1\", \"gene\" => \"ndhB\", \"codon_start\" => \"1\")), Feature(\"CDS\", 3189, 3947, '+', 0, Dict(\"ID\" => \"ndhB/1/CDS/3\", \"gene\" => \"ndhB\", \"codon_start\" => \"1\"))], Feature[], Feature[], Feature[])\n",
       " Gene(\"trnL-CAA\", Feature(\"gene\", 4759, 4839, '+', 0, Dict(\"NCBI Feature Key\" => \"gene\", \"Name\" => \"trnL-CAA\", \"ID\" => \"trnL-CAA\")), Feature[], Feature[Feature(\"tRNA\", 4759, 4839, '+', 0, Dict(\"gene\" => \"trnL-CAA\", \"ID\" => \"trnL-CAA.tRNA\"))], Feature[], Feature[], Feature[], Feature[], Feature[], Feature[])\n",
       " Gene(\"psbM\", Feature(\"gene\", 5220, 5324, '+', 0, Dict(\"NCBI Feature Key\" => \"gene\", \"Name\" => \"psbM\", \"ID\" => \"psbM\")), Feature[], Feature[], Feature[], Feature[], Feature[Feature(\"CDS\", 5220, 5324, '+', 0, Dict(\"ID\" => \"psbM/1/CDS/1\", \"gene\" => \"psbM\", \"codon_start\" => \"1\"))], Feature[], Feature[], Feature[])\n",
       " Gene(\"petN\", Feature(\"gene\", 5944, 6033, '-', 0, Dict(\"NCBI Feature Key\" => \"gene\", \"Name\" => \"petN\", \"ID\" => \"petN\")), Feature[], Feature[], Feature[], Feature[], Feature[Feature(\"CDS\", 5944, 6033, '-', 0, Dict(\"ID\" => \"petN/1/CDS/1\", \"gene\" => \"petN\", \"codon_start\" => \"1\"))], Feature[], Feature[], Feature[])\n",
       " Gene(\"ffs\", Feature(\"gene\", 6362, 6468, '+', 0, Dict(\"created_by\" => \"farley\", \"NCBI Feature Key\" => \"gene\", \"Name\" => \"ffs\", \"ID\" => \"ffs\")), Feature[], Feature[], Feature[], Feature[Feature(\"ncRNA\", 6362, 6468, '+', 0, Dict(\"gene\" => \"ffs\", \"ID\" => \"ffs.ncRNA\"))], Feature[], Feature[], Feature[], Feature[])\n",
       " Gene(\"trnC-GCA\", Feature(\"gene\", 6530, 6600, '-', 0, Dict(\"NCBI Feature Key\" => \"gene\", \"Name\" => \"trnC-GCA\", \"ID\" => \"trnC-GCA\")), Feature[], Feature[Feature(\"tRNA\", 6530, 6600, '-', 0, Dict(\"gene\" => \"trnC-GCA\", \"ID\" => \"trnC-GCA.tRNA\"))], Feature[], Feature[], Feature[], Feature[], Feature[], Feature[])\n",
       " Gene(\"rpoB\", Feature(\"gene\", 7006, 10287, '+', 0, Dict(\"NCBI Feature Key\" => \"gene\", \"Name\" => \"rpoB\", \"ID\" => \"rpoB\")), Feature[], Feature[], Feature[], Feature[], Feature[Feature(\"CDS\", 7006, 10287, '+', 0, Dict(\"ID\" => \"rpoB/1/CDS/1\", \"gene\" => \"rpoB\", \"codon_start\" => \"1\"))], Feature[], Feature[], Feature[])\n",
       " Gene(\"rpoC1\", Feature(\"gene\", 10366, 13136, '+', 0, Dict(\"NCBI Feature Key\" => \"gene\", \"Name\" => \"rpoC1\", \"ID\" => \"rpoC1\")), Feature[], Feature[], Feature[], Feature[], Feature[Feature(\"CDS\", 10366, 10800, '+', 0, Dict(\"ID\" => \"rpoC1/1/CDS/1\", \"gene\" => \"rpoC1\", \"codon_start\" => \"1\")), Feature(\"CDS\", 11535, 13136, '+', 0, Dict(\"ID\" => \"rpoC1/1/CDS/3\", \"gene\" => \"rpoC1\", \"codon_start\" => \"1\"))], Feature[], Feature[], Feature[])\n",
       " ⋮\n",
       " Gene(\"trnN-GUU-2\", Feature(\"gene\", 133700, 133771, '+', 0, Dict(\"NCBI Feature Key\" => \"gene\", \"Name\" => \"trnN-GUU\", \"ID\" => \"trnN-GUU-2\")), Feature[], Feature[Feature(\"tRNA\", 133700, 133771, '+', 0, Dict(\"gene\" => \"trnN-GUU-2\", \"ID\" => \"trnN-GUU.tRNA\"))], Feature[], Feature[], Feature[], Feature[], Feature[], Feature[])\n",
       " Gene(\"trnR-ACG-2\", Feature(\"gene\", 134613, 134686, '-', 0, Dict(\"NCBI Feature Key\" => \"gene\", \"Name\" => \"trnR-ACG\", \"ID\" => \"trnR-ACG-2\")), Feature[], Feature[Feature(\"tRNA\", 134613, 134686, '-', 0, Dict(\"gene\" => \"trnR-ACG-2\", \"ID\" => \"trnR-ACG-2.tRNA\"))], Feature[], Feature[], Feature[], Feature[], Feature[], Feature[])\n",
       " Gene(\"rrn5-2\", Feature(\"gene\", 134934, 135054, '-', 0, Dict(\"NCBI Feature Key\" => \"gene\", \"Name\" => \"rrn5\", \"ID\" => \"rrn5-2\")), Feature[], Feature[], Feature[Feature(\"rRNA\", 134934, 135054, '-', 0, Dict(\"gene\" => \"rrn5-2\", \"ID\" => \"rrn5-2.rRNA\"))], Feature[], Feature[], Feature[], Feature[], Feature[])\n",
       " Gene(\"rrn4.5-2\", Feature(\"gene\", 135293, 135395, '-', 0, Dict(\"NCBI Feature Key\" => \"gene\", \"Name\" => \"rrn4.5\", \"ID\" => \"rrn4.5-2\")), Feature[], Feature[], Feature[Feature(\"rRNA\", 135293, 135395, '-', 0, Dict(\"gene\" => \"rrn4.5-2\", \"ID\" => \"rrn4.5-2.rRNA\"))], Feature[], Feature[], Feature[], Feature[], Feature[])\n",
       " Gene(\"rrn23-2\", Feature(\"gene\", 135497, 138338, '-', 0, Dict(\"NCBI Feature Key\" => \"gene\", \"Name\" => \"rrn23\", \"ID\" => \"rrn23-2\")), Feature[], Feature[], Feature[Feature(\"rRNA\", 135497, 138338, '-', 0, Dict(\"gene\" => \"rrn23-2\", \"ID\" => \"rrn23-2.rRNA\"))], Feature[], Feature[], Feature[], Feature[], Feature[])\n",
       " Gene(\"trnA-UGC-2\", Feature(\"gene\", 139086, 139945, '-', 0, Dict(\"NCBI Feature Key\" => \"gene\", \"Name\" => \"trnA-UGC\", \"ID\" => \"trnA-UGC-2\")), Feature[], Feature[Feature(\"tRNA\", 139086, 139945, '-', 0, Dict(\"gene\" => \"trnA-UGC-2\", \"ID\" => \"trnA-UGC-2.tRNA\"))], Feature[], Feature[], Feature[], Feature[], Feature[], Feature[])\n",
       " Gene(\"trnI-GAU-2\", Feature(\"gene\", 140017, 141051, '-', 0, Dict(\"NCBI Feature Key\" => \"gene\", \"Name\" => \"trnI-GAU\", \"ID\" => \"trnI-GAU-2\")), Feature[], Feature[Feature(\"tRNA\", 140017, 141051, '-', 0, Dict(\"gene\" => \"trnI-GAU-2\", \"ID\" => \"trnI-GAU-2.tRNA\"))], Feature[], Feature[], Feature[], Feature[], Feature[], Feature[])\n",
       " Gene(\"rrn16-2\", Feature(\"gene\", 141397, 142895, '-', 0, Dict(\"NCBI Feature Key\" => \"gene\", \"Name\" => \"rrn16\", \"ID\" => \"rrn16-2\")), Feature[], Feature[], Feature[Feature(\"rRNA\", 141397, 142895, '-', 0, Dict(\"gene\" => \"rrn16-2\", \"ID\" => \"rrn16-2.rRNA\"))], Feature[], Feature[], Feature[], Feature[], Feature[])\n",
       " Gene(\"trnV-GAC-2\", Feature(\"gene\", 143099, 143170, '-', 0, Dict(\"NCBI Feature Key\" => \"gene\", \"Name\" => \"trnV-GAC\", \"ID\" => \"trnV-GAC-2\")), Feature[], Feature[Feature(\"tRNA\", 143099, 143170, '-', 0, Dict(\"gene\" => \"trnV-GAC-2\", \"ID\" => \"trnV-GAC-2.tRNA\"))], Feature[], Feature[], Feature[], Feature[], Feature[], Feature[])"
      ]
     },
     "metadata": {},
     "output_type": "display_data"
    }
   ],
   "source": [
    "genes"
   ]
  },
  {
   "cell_type": "code",
   "execution_count": 10,
   "metadata": {},
   "outputs": [
    {
     "data": {
      "text/plain": [
       "calculate_codon_position (generic function with 1 method)"
      ]
     },
     "metadata": {},
     "output_type": "display_data"
    }
   ],
   "source": [
    "function calculate_codon_position(gene::Gene, position::Int)\n",
    "    @assert position >= gene.gene.start && position <= gene.gene.stop\n",
    "    sort!(gene.CDSs, by=x->x.start)\n",
    "    if gene.gene.strand == '-'; reverse!(gene.CDSs); end\n",
    "    seq = LongDNA{4}()\n",
    "    cds_position = 0\n",
    "    in_cds = false\n",
    "    for cds in gene.CDSs\n",
    "        if gene.gene.strand == '+' && position >= cds.stop\n",
    "            cds_position += cds.stop - cds.start + 1\n",
    "        elseif gene.gene.strand == '-' && position <= cds.start\n",
    "            cds_position += cds.stop - cds.start + 1\n",
    "        elseif gene.gene.strand == '+' && position >= cds.start\n",
    "            cds_position += position - cds.start + 1\n",
    "            in_cds = true\n",
    "        elseif gene.gene.strand == '-' && position <= cds.stop\n",
    "            cds_position += cds.stop - position + 1\n",
    "            in_cds = true\n",
    "        end\n",
    "        append!(seq, gene.gene.strand == '+' ? LongDNA{4}(refseq[cds.start:cds.stop]) : reverse_complement(LongDNA{4}(refseq[cds.start:cds.stop])))\n",
    "    end\n",
    "    codon_no = codon_position = 0\n",
    "    codon = LongDNA{4}([DNA_Gap, DNA_Gap, DNA_Gap])\n",
    "    if in_cds\n",
    "        codon_no = ceil(Int, cds_position/3.0)\n",
    "        codon_position = cds_position - 3 * (codon_no - 1)\n",
    "        codon = seq[3 * codon_no - 2:3 * codon_no]\n",
    "    else\n",
    "        cds_position = gene.gene.strand == '+' ? position - gene.gene.start + 1 : gene.gene.stop - position + 1\n",
    "    end\n",
    "    return cds_position, codon_no, codon_position, codon\n",
    "end"
   ]
  },
  {
   "cell_type": "code",
   "execution_count": 11,
   "metadata": {},
   "outputs": [
    {
     "data": {
      "text/plain": [
       "3-element Vector{LongSequence{RNAAlphabet{4}}}:\n",
       " UAA\n",
       " UGA\n",
       " UAG"
      ]
     },
     "metadata": {},
     "output_type": "display_data"
    }
   ],
   "source": [
    "dna_stops = LongDNA{4}.([[DNA_T, DNA_A, DNA_A], [DNA_T, DNA_G, DNA_A], [DNA_T, DNA_A, DNA_G]])\n",
    "rna_stops = convert.(LongRNA{4}, dna_stops)"
   ]
  },
  {
   "cell_type": "code",
   "execution_count": 12,
   "metadata": {},
   "outputs": [
    {
     "data": {
      "text/plain": [
       "prepact_name (generic function with 1 method)"
      ]
     },
     "metadata": {},
     "output_type": "display_data"
    }
   ],
   "source": [
    "function prepact_name(position, gene, base, cds_position, aa, edited_aa)\n",
    "    if ismissing(gene) || haskey(gene.gene.attributes, \"pseudo\") || haskey(gene.gene.attributes, \"pseudogene\")\n",
    "        return string(position) * \"e\" * string(base)\n",
    "    elseif aa == AA_Gap\n",
    "        return gene.id * \"e\" * string(base) * string(cds_position)\n",
    "    else\n",
    "        return gene.id * \"e\" * string(base) * string(cds_position) * string(aa) * string(edited_aa)\n",
    "    end\n",
    "end"
   ]
  },
  {
   "cell_type": "code",
   "execution_count": 13,
   "metadata": {},
   "outputs": [
    {
     "data": {
      "text/html": [
       "<div><div style = \"float: left;\"><span>285×20 DataFrame</span></div><div style = \"float: right;\"><span style = \"font-style: italic;\">260 rows omitted</span></div><div style = \"clear: both;\"></div></div><div class = \"data-frame\" style = \"overflow-x: scroll;\"><table class = \"data-frame\" style = \"margin-bottom: 6px;\"><thead><tr class = \"header\"><th class = \"rowNumber\" style = \"font-weight: bold; text-align: right;\">Row</th><th style = \"text-align: left;\">genome</th><th style = \"text-align: left;\">strand</th><th style = \"text-align: left;\">position</th><th style = \"text-align: left;\">id</th><th style = \"text-align: left;\">reference_base</th><th style = \"text-align: left;\">edited_base</th><th style = \"text-align: left;\">proportion_edited</th><th style = \"text-align: left;\">gene</th><th style = \"text-align: left;\">cds_position</th><th style = \"text-align: left;\">codon_position</th><th style = \"text-align: left;\">codon</th><th style = \"text-align: left;\">edited_codon</th><th style = \"text-align: left;\">aa</th><th style = \"text-align: left;\">edited_aa</th><th style = \"text-align: left;\">synonymous</th><th style = \"text-align: left;\">creates_start</th><th style = \"text-align: left;\">creates_stop</th><th style = \"text-align: left;\">removes_stop</th><th style = \"text-align: left;\">preceding_base</th><th style = \"text-align: left;\">subsequent_base</th></tr><tr class = \"subheader headerLastRow\"><th class = \"rowNumber\" style = \"font-weight: bold; text-align: right;\"></th><th title = \"String\" style = \"text-align: left;\">String</th><th title = \"Char\" style = \"text-align: left;\">Char</th><th title = \"Int64\" style = \"text-align: left;\">Int64</th><th title = \"String\" style = \"text-align: left;\">String</th><th title = \"DNA\" style = \"text-align: left;\">DNA</th><th title = \"RNA\" style = \"text-align: left;\">RNA</th><th title = \"Float64\" style = \"text-align: left;\">Float64</th><th title = \"String\" style = \"text-align: left;\">String</th><th title = \"Int64\" style = \"text-align: left;\">Int64</th><th title = \"Int64\" style = \"text-align: left;\">Int64</th><th title = \"LongSequence{DNAAlphabet{4}}\" style = \"text-align: left;\">LongSequ…</th><th title = \"LongSequence{RNAAlphabet{4}}\" style = \"text-align: left;\">LongSequ…</th><th title = \"AminoAcid\" style = \"text-align: left;\">AminoAcid</th><th title = \"AminoAcid\" style = \"text-align: left;\">AminoAcid</th><th title = \"Union{Missing, Bool}\" style = \"text-align: left;\">Bool?</th><th title = \"Bool\" style = \"text-align: left;\">Bool</th><th title = \"Bool\" style = \"text-align: left;\">Bool</th><th title = \"Bool\" style = \"text-align: left;\">Bool</th><th title = \"RNA\" style = \"text-align: left;\">RNA</th><th title = \"RNA\" style = \"text-align: left;\">RNA</th></tr></thead><tbody><tr><td class = \"rowNumber\" style = \"font-weight: bold; text-align: right;\">1</td><td style = \"text-align: left;\">cp</td><td style = \"text-align: left;\">+</td><td style = \"text-align: right;\">737</td><td style = \"text-align: left;\">rps12BeU448</td><td style = \"text-align: left;\">C</td><td style = \"text-align: left;\">U</td><td style = \"text-align: right;\">0.8</td><td style = \"text-align: left;\">rps12B</td><td style = \"text-align: right;\">448</td><td style = \"text-align: right;\">0</td><td style = \"text-align: left;\">---</td><td style = \"text-align: left;\">---</td><td style = \"text-align: left;\">-</td><td style = \"text-align: left;\">-</td><td style = \"font-style: italic; text-align: right;\">missing</td><td style = \"text-align: right;\">false</td><td style = \"text-align: right;\">false</td><td style = \"text-align: right;\">false</td><td style = \"text-align: left;\">U</td><td style = \"text-align: left;\">G</td></tr><tr><td class = \"rowNumber\" style = \"font-weight: bold; text-align: right;\">2</td><td style = \"text-align: left;\">cp</td><td style = \"text-align: left;\">+</td><td style = \"text-align: right;\">2178</td><td style = \"text-align: left;\">ndhBeU395SL</td><td style = \"text-align: left;\">C</td><td style = \"text-align: left;\">U</td><td style = \"text-align: right;\">0.9</td><td style = \"text-align: left;\">ndhB</td><td style = \"text-align: right;\">395</td><td style = \"text-align: right;\">2</td><td style = \"text-align: left;\">TCA</td><td style = \"text-align: left;\">UUA</td><td style = \"text-align: left;\">S</td><td style = \"text-align: left;\">L</td><td style = \"text-align: right;\">false</td><td style = \"text-align: right;\">false</td><td style = \"text-align: right;\">false</td><td style = \"text-align: right;\">false</td><td style = \"text-align: left;\">U</td><td style = \"text-align: left;\">A</td></tr><tr><td class = \"rowNumber\" style = \"font-weight: bold; text-align: right;\">3</td><td style = \"text-align: left;\">cp</td><td style = \"text-align: left;\">+</td><td style = \"text-align: right;\">2430</td><td style = \"text-align: left;\">ndhBeU647PL</td><td style = \"text-align: left;\">C</td><td style = \"text-align: left;\">U</td><td style = \"text-align: right;\">0.9</td><td style = \"text-align: left;\">ndhB</td><td style = \"text-align: right;\">647</td><td style = \"text-align: right;\">2</td><td style = \"text-align: left;\">CCT</td><td style = \"text-align: left;\">CUU</td><td style = \"text-align: left;\">P</td><td style = \"text-align: left;\">L</td><td style = \"text-align: right;\">false</td><td style = \"text-align: right;\">false</td><td style = \"text-align: right;\">false</td><td style = \"text-align: right;\">false</td><td style = \"text-align: left;\">C</td><td style = \"text-align: left;\">U</td></tr><tr><td class = \"rowNumber\" style = \"font-weight: bold; text-align: right;\">4</td><td style = \"text-align: left;\">cp</td><td style = \"text-align: left;\">+</td><td style = \"text-align: right;\">3241</td><td style = \"text-align: left;\">ndhBeU779SL</td><td style = \"text-align: left;\">C</td><td style = \"text-align: left;\">U</td><td style = \"text-align: right;\">0.8</td><td style = \"text-align: left;\">ndhB</td><td style = \"text-align: right;\">779</td><td style = \"text-align: right;\">2</td><td style = \"text-align: left;\">TCA</td><td style = \"text-align: left;\">UUA</td><td style = \"text-align: left;\">S</td><td style = \"text-align: left;\">L</td><td style = \"text-align: right;\">false</td><td style = \"text-align: right;\">false</td><td style = \"text-align: right;\">false</td><td style = \"text-align: right;\">false</td><td style = \"text-align: left;\">U</td><td style = \"text-align: left;\">A</td></tr><tr><td class = \"rowNumber\" style = \"font-weight: bold; text-align: right;\">5</td><td style = \"text-align: left;\">cp</td><td style = \"text-align: left;\">+</td><td style = \"text-align: right;\">3260</td><td style = \"text-align: left;\">ndhBeU798II</td><td style = \"text-align: left;\">C</td><td style = \"text-align: left;\">U</td><td style = \"text-align: right;\">0.7</td><td style = \"text-align: left;\">ndhB</td><td style = \"text-align: right;\">798</td><td style = \"text-align: right;\">3</td><td style = \"text-align: left;\">ATC</td><td style = \"text-align: left;\">AUU</td><td style = \"text-align: left;\">I</td><td style = \"text-align: left;\">I</td><td style = \"text-align: right;\">true</td><td style = \"text-align: right;\">false</td><td style = \"text-align: right;\">false</td><td style = \"text-align: right;\">false</td><td style = \"text-align: left;\">U</td><td style = \"text-align: left;\">U</td></tr><tr><td class = \"rowNumber\" style = \"font-weight: bold; text-align: right;\">6</td><td style = \"text-align: left;\">cp</td><td style = \"text-align: left;\">+</td><td style = \"text-align: right;\">3262</td><td style = \"text-align: left;\">ndhBeU800SL</td><td style = \"text-align: left;\">C</td><td style = \"text-align: left;\">U</td><td style = \"text-align: right;\">0.7</td><td style = \"text-align: left;\">ndhB</td><td style = \"text-align: right;\">800</td><td style = \"text-align: right;\">2</td><td style = \"text-align: left;\">TCA</td><td style = \"text-align: left;\">UUA</td><td style = \"text-align: left;\">S</td><td style = \"text-align: left;\">L</td><td style = \"text-align: right;\">false</td><td style = \"text-align: right;\">false</td><td style = \"text-align: right;\">false</td><td style = \"text-align: right;\">false</td><td style = \"text-align: left;\">U</td><td style = \"text-align: left;\">A</td></tr><tr><td class = \"rowNumber\" style = \"font-weight: bold; text-align: right;\">7</td><td style = \"text-align: left;\">cp</td><td style = \"text-align: left;\">+</td><td style = \"text-align: right;\">3574</td><td style = \"text-align: left;\">ndhBeU1112PL</td><td style = \"text-align: left;\">C</td><td style = \"text-align: left;\">U</td><td style = \"text-align: right;\">0.9</td><td style = \"text-align: left;\">ndhB</td><td style = \"text-align: right;\">1112</td><td style = \"text-align: right;\">2</td><td style = \"text-align: left;\">CCT</td><td style = \"text-align: left;\">CUU</td><td style = \"text-align: left;\">P</td><td style = \"text-align: left;\">L</td><td style = \"text-align: right;\">false</td><td style = \"text-align: right;\">false</td><td style = \"text-align: right;\">false</td><td style = \"text-align: right;\">false</td><td style = \"text-align: left;\">C</td><td style = \"text-align: left;\">U</td></tr><tr><td class = \"rowNumber\" style = \"font-weight: bold; text-align: right;\">8</td><td style = \"text-align: left;\">cp</td><td style = \"text-align: left;\">+</td><td style = \"text-align: right;\">3607</td><td style = \"text-align: left;\">ndhBeU1145PL</td><td style = \"text-align: left;\">C</td><td style = \"text-align: left;\">U</td><td style = \"text-align: right;\">0.9</td><td style = \"text-align: left;\">ndhB</td><td style = \"text-align: right;\">1145</td><td style = \"text-align: right;\">2</td><td style = \"text-align: left;\">CCA</td><td style = \"text-align: left;\">CUA</td><td style = \"text-align: left;\">P</td><td style = \"text-align: left;\">L</td><td style = \"text-align: right;\">false</td><td style = \"text-align: right;\">false</td><td style = \"text-align: right;\">false</td><td style = \"text-align: right;\">false</td><td style = \"text-align: left;\">C</td><td style = \"text-align: left;\">A</td></tr><tr><td class = \"rowNumber\" style = \"font-weight: bold; text-align: right;\">9</td><td style = \"text-align: left;\">cp</td><td style = \"text-align: left;\">+</td><td style = \"text-align: right;\">3974</td><td style = \"text-align: left;\">3974eU</td><td style = \"text-align: left;\">C</td><td style = \"text-align: left;\">U</td><td style = \"text-align: right;\">0.2</td><td style = \"text-align: left;\"></td><td style = \"text-align: right;\">0</td><td style = \"text-align: right;\">0</td><td style = \"text-align: left;\">---</td><td style = \"text-align: left;\">---</td><td style = \"text-align: left;\">-</td><td style = \"text-align: left;\">-</td><td style = \"font-style: italic; text-align: right;\">missing</td><td style = \"text-align: right;\">false</td><td style = \"text-align: right;\">false</td><td style = \"text-align: right;\">false</td><td style = \"text-align: left;\">U</td><td style = \"text-align: left;\">U</td></tr><tr><td class = \"rowNumber\" style = \"font-weight: bold; text-align: right;\">10</td><td style = \"text-align: left;\">cp</td><td style = \"text-align: left;\">-</td><td style = \"text-align: right;\">5990</td><td style = \"text-align: left;\">petNeU44SF</td><td style = \"text-align: left;\">C</td><td style = \"text-align: left;\">U</td><td style = \"text-align: right;\">0.9</td><td style = \"text-align: left;\">petN</td><td style = \"text-align: right;\">44</td><td style = \"text-align: right;\">2</td><td style = \"text-align: left;\">TCC</td><td style = \"text-align: left;\">UUC</td><td style = \"text-align: left;\">S</td><td style = \"text-align: left;\">F</td><td style = \"text-align: right;\">false</td><td style = \"text-align: right;\">false</td><td style = \"text-align: right;\">false</td><td style = \"text-align: right;\">false</td><td style = \"text-align: left;\">U</td><td style = \"text-align: left;\">C</td></tr><tr><td class = \"rowNumber\" style = \"font-weight: bold; text-align: right;\">11</td><td style = \"text-align: left;\">cp</td><td style = \"text-align: left;\">+</td><td style = \"text-align: right;\">12090</td><td style = \"text-align: left;\">rpoC1eU991RC</td><td style = \"text-align: left;\">C</td><td style = \"text-align: left;\">U</td><td style = \"text-align: right;\">0.7</td><td style = \"text-align: left;\">rpoC1</td><td style = \"text-align: right;\">991</td><td style = \"text-align: right;\">1</td><td style = \"text-align: left;\">CGT</td><td style = \"text-align: left;\">UGU</td><td style = \"text-align: left;\">R</td><td style = \"text-align: left;\">C</td><td style = \"text-align: right;\">false</td><td style = \"text-align: right;\">false</td><td style = \"text-align: right;\">false</td><td style = \"text-align: right;\">false</td><td style = \"text-align: left;\">U</td><td style = \"text-align: left;\">G</td></tr><tr><td class = \"rowNumber\" style = \"font-weight: bold; text-align: right;\">12</td><td style = \"text-align: left;\">cp</td><td style = \"text-align: left;\">+</td><td style = \"text-align: right;\">12155</td><td style = \"text-align: left;\">rpoC1eU1056PP</td><td style = \"text-align: left;\">C</td><td style = \"text-align: left;\">U</td><td style = \"text-align: right;\">0.2</td><td style = \"text-align: left;\">rpoC1</td><td style = \"text-align: right;\">1056</td><td style = \"text-align: right;\">3</td><td style = \"text-align: left;\">CCC</td><td style = \"text-align: left;\">CCU</td><td style = \"text-align: left;\">P</td><td style = \"text-align: left;\">P</td><td style = \"text-align: right;\">true</td><td style = \"text-align: right;\">false</td><td style = \"text-align: right;\">false</td><td style = \"text-align: right;\">false</td><td style = \"text-align: left;\">C</td><td style = \"text-align: left;\">A</td></tr><tr><td class = \"rowNumber\" style = \"font-weight: bold; text-align: right;\">13</td><td style = \"text-align: left;\">cp</td><td style = \"text-align: left;\">-</td><td style = \"text-align: right;\">15795</td><td style = \"text-align: left;\">15795eU</td><td style = \"text-align: left;\">C</td><td style = \"text-align: left;\">U</td><td style = \"text-align: right;\">0.7</td><td style = \"text-align: left;\"></td><td style = \"text-align: right;\">0</td><td style = \"text-align: right;\">0</td><td style = \"text-align: left;\">---</td><td style = \"text-align: left;\">---</td><td style = \"text-align: left;\">-</td><td style = \"text-align: left;\">-</td><td style = \"font-style: italic; text-align: right;\">missing</td><td style = \"text-align: right;\">false</td><td style = \"text-align: right;\">false</td><td style = \"text-align: right;\">false</td><td style = \"text-align: left;\">C</td><td style = \"text-align: left;\">A</td></tr><tr><td style = \"text-align: right;\">&vellip;</td><td style = \"text-align: right;\">&vellip;</td><td style = \"text-align: right;\">&vellip;</td><td style = \"text-align: right;\">&vellip;</td><td style = \"text-align: right;\">&vellip;</td><td style = \"text-align: right;\">&vellip;</td><td style = \"text-align: right;\">&vellip;</td><td style = \"text-align: right;\">&vellip;</td><td style = \"text-align: right;\">&vellip;</td><td style = \"text-align: right;\">&vellip;</td><td style = \"text-align: right;\">&vellip;</td><td style = \"text-align: right;\">&vellip;</td><td style = \"text-align: right;\">&vellip;</td><td style = \"text-align: right;\">&vellip;</td><td style = \"text-align: right;\">&vellip;</td><td style = \"text-align: right;\">&vellip;</td><td style = \"text-align: right;\">&vellip;</td><td style = \"text-align: right;\">&vellip;</td><td style = \"text-align: right;\">&vellip;</td><td style = \"text-align: right;\">&vellip;</td><td style = \"text-align: right;\">&vellip;</td></tr><tr><td class = \"rowNumber\" style = \"font-weight: bold; text-align: right;\">274</td><td style = \"text-align: left;\">cp</td><td style = \"text-align: left;\">+</td><td style = \"text-align: right;\">131746</td><td style = \"text-align: left;\">131746eU</td><td style = \"text-align: left;\">C</td><td style = \"text-align: left;\">U</td><td style = \"text-align: right;\">0.9</td><td style = \"text-align: left;\">ndhF-2</td><td style = \"text-align: right;\">901</td><td style = \"text-align: right;\">0</td><td style = \"text-align: left;\">---</td><td style = \"text-align: left;\">---</td><td style = \"text-align: left;\">-</td><td style = \"text-align: left;\">-</td><td style = \"font-style: italic; text-align: right;\">missing</td><td style = \"text-align: right;\">false</td><td style = \"text-align: right;\">false</td><td style = \"text-align: right;\">false</td><td style = \"text-align: left;\">U</td><td style = \"text-align: left;\">C</td></tr><tr><td class = \"rowNumber\" style = \"font-weight: bold; text-align: right;\">275</td><td style = \"text-align: left;\">cp</td><td style = \"text-align: left;\">+</td><td style = \"text-align: right;\">131759</td><td style = \"text-align: left;\">131759eU</td><td style = \"text-align: left;\">C</td><td style = \"text-align: left;\">U</td><td style = \"text-align: right;\">0.8</td><td style = \"text-align: left;\">ndhF-2</td><td style = \"text-align: right;\">914</td><td style = \"text-align: right;\">0</td><td style = \"text-align: left;\">---</td><td style = \"text-align: left;\">---</td><td style = \"text-align: left;\">-</td><td style = \"text-align: left;\">-</td><td style = \"font-style: italic; text-align: right;\">missing</td><td style = \"text-align: right;\">false</td><td style = \"text-align: right;\">false</td><td style = \"text-align: right;\">false</td><td style = \"text-align: left;\">U</td><td style = \"text-align: left;\">A</td></tr><tr><td class = \"rowNumber\" style = \"font-weight: bold; text-align: right;\">276</td><td style = \"text-align: left;\">cp</td><td style = \"text-align: left;\">+</td><td style = \"text-align: right;\">131762</td><td style = \"text-align: left;\">131762eU</td><td style = \"text-align: left;\">C</td><td style = \"text-align: left;\">U</td><td style = \"text-align: right;\">0.8</td><td style = \"text-align: left;\">ndhF-2</td><td style = \"text-align: right;\">917</td><td style = \"text-align: right;\">0</td><td style = \"text-align: left;\">---</td><td style = \"text-align: left;\">---</td><td style = \"text-align: left;\">-</td><td style = \"text-align: left;\">-</td><td style = \"font-style: italic; text-align: right;\">missing</td><td style = \"text-align: right;\">false</td><td style = \"text-align: right;\">false</td><td style = \"text-align: right;\">false</td><td style = \"text-align: left;\">U</td><td style = \"text-align: left;\">U</td></tr><tr><td class = \"rowNumber\" style = \"font-weight: bold; text-align: right;\">277</td><td style = \"text-align: left;\">cp</td><td style = \"text-align: left;\">+</td><td style = \"text-align: right;\">131765</td><td style = \"text-align: left;\">131765eU</td><td style = \"text-align: left;\">C</td><td style = \"text-align: left;\">U</td><td style = \"text-align: right;\">0.7</td><td style = \"text-align: left;\">ndhF-2</td><td style = \"text-align: right;\">920</td><td style = \"text-align: right;\">0</td><td style = \"text-align: left;\">---</td><td style = \"text-align: left;\">---</td><td style = \"text-align: left;\">-</td><td style = \"text-align: left;\">-</td><td style = \"font-style: italic; text-align: right;\">missing</td><td style = \"text-align: right;\">false</td><td style = \"text-align: right;\">false</td><td style = \"text-align: right;\">false</td><td style = \"text-align: left;\">C</td><td style = \"text-align: left;\">C</td></tr><tr><td class = \"rowNumber\" style = \"font-weight: bold; text-align: right;\">278</td><td style = \"text-align: left;\">cp</td><td style = \"text-align: left;\">+</td><td style = \"text-align: right;\">131766</td><td style = \"text-align: left;\">131766eU</td><td style = \"text-align: left;\">C</td><td style = \"text-align: left;\">U</td><td style = \"text-align: right;\">0.5</td><td style = \"text-align: left;\">ndhF-2</td><td style = \"text-align: right;\">921</td><td style = \"text-align: right;\">0</td><td style = \"text-align: left;\">---</td><td style = \"text-align: left;\">---</td><td style = \"text-align: left;\">-</td><td style = \"text-align: left;\">-</td><td style = \"font-style: italic; text-align: right;\">missing</td><td style = \"text-align: right;\">false</td><td style = \"text-align: right;\">false</td><td style = \"text-align: right;\">false</td><td style = \"text-align: left;\">C</td><td style = \"text-align: left;\">G</td></tr><tr><td class = \"rowNumber\" style = \"font-weight: bold; text-align: right;\">279</td><td style = \"text-align: left;\">cp</td><td style = \"text-align: left;\">+</td><td style = \"text-align: right;\">132052</td><td style = \"text-align: left;\">132052eU</td><td style = \"text-align: left;\">C</td><td style = \"text-align: left;\">U</td><td style = \"text-align: right;\">0.8</td><td style = \"text-align: left;\">ndhF-2</td><td style = \"text-align: right;\">1207</td><td style = \"text-align: right;\">0</td><td style = \"text-align: left;\">---</td><td style = \"text-align: left;\">---</td><td style = \"text-align: left;\">-</td><td style = \"text-align: left;\">-</td><td style = \"font-style: italic; text-align: right;\">missing</td><td style = \"text-align: right;\">false</td><td style = \"text-align: right;\">false</td><td style = \"text-align: right;\">false</td><td style = \"text-align: left;\">U</td><td style = \"text-align: left;\">U</td></tr><tr><td class = \"rowNumber\" style = \"font-weight: bold; text-align: right;\">280</td><td style = \"text-align: left;\">cp</td><td style = \"text-align: left;\">+</td><td style = \"text-align: right;\">132305</td><td style = \"text-align: left;\">132305eU</td><td style = \"text-align: left;\">C</td><td style = \"text-align: left;\">U</td><td style = \"text-align: right;\">0.6</td><td style = \"text-align: left;\">ndhF-2</td><td style = \"text-align: right;\">1460</td><td style = \"text-align: right;\">0</td><td style = \"text-align: left;\">---</td><td style = \"text-align: left;\">---</td><td style = \"text-align: left;\">-</td><td style = \"text-align: left;\">-</td><td style = \"font-style: italic; text-align: right;\">missing</td><td style = \"text-align: right;\">false</td><td style = \"text-align: right;\">false</td><td style = \"text-align: right;\">false</td><td style = \"text-align: left;\">A</td><td style = \"text-align: left;\">A</td></tr><tr><td class = \"rowNumber\" style = \"font-weight: bold; text-align: right;\">281</td><td style = \"text-align: left;\">cp</td><td style = \"text-align: left;\">+</td><td style = \"text-align: right;\">132512</td><td style = \"text-align: left;\">132512eU</td><td style = \"text-align: left;\">C</td><td style = \"text-align: left;\">U</td><td style = \"text-align: right;\">0.9</td><td style = \"text-align: left;\">ndhF-2</td><td style = \"text-align: right;\">1667</td><td style = \"text-align: right;\">0</td><td style = \"text-align: left;\">---</td><td style = \"text-align: left;\">---</td><td style = \"text-align: left;\">-</td><td style = \"text-align: left;\">-</td><td style = \"font-style: italic; text-align: right;\">missing</td><td style = \"text-align: right;\">false</td><td style = \"text-align: right;\">false</td><td style = \"text-align: right;\">false</td><td style = \"text-align: left;\">A</td><td style = \"text-align: left;\">U</td></tr><tr><td class = \"rowNumber\" style = \"font-weight: bold; text-align: right;\">282</td><td style = \"text-align: left;\">cp</td><td style = \"text-align: left;\">+</td><td style = \"text-align: right;\">132518</td><td style = \"text-align: left;\">132518eU</td><td style = \"text-align: left;\">C</td><td style = \"text-align: left;\">U</td><td style = \"text-align: right;\">0.8</td><td style = \"text-align: left;\">ndhF-2</td><td style = \"text-align: right;\">1673</td><td style = \"text-align: right;\">0</td><td style = \"text-align: left;\">---</td><td style = \"text-align: left;\">---</td><td style = \"text-align: left;\">-</td><td style = \"text-align: left;\">-</td><td style = \"font-style: italic; text-align: right;\">missing</td><td style = \"text-align: right;\">false</td><td style = \"text-align: right;\">false</td><td style = \"text-align: right;\">false</td><td style = \"text-align: left;\">U</td><td style = \"text-align: left;\">C</td></tr><tr><td class = \"rowNumber\" style = \"font-weight: bold; text-align: right;\">283</td><td style = \"text-align: left;\">cp</td><td style = \"text-align: left;\">+</td><td style = \"text-align: right;\">132524</td><td style = \"text-align: left;\">132524eU</td><td style = \"text-align: left;\">C</td><td style = \"text-align: left;\">U</td><td style = \"text-align: right;\">0.8</td><td style = \"text-align: left;\">ndhF-2</td><td style = \"text-align: right;\">1679</td><td style = \"text-align: right;\">0</td><td style = \"text-align: left;\">---</td><td style = \"text-align: left;\">---</td><td style = \"text-align: left;\">-</td><td style = \"text-align: left;\">-</td><td style = \"font-style: italic; text-align: right;\">missing</td><td style = \"text-align: right;\">false</td><td style = \"text-align: right;\">false</td><td style = \"text-align: right;\">false</td><td style = \"text-align: left;\">C</td><td style = \"text-align: left;\">G</td></tr><tr><td class = \"rowNumber\" style = \"font-weight: bold; text-align: right;\">284</td><td style = \"text-align: left;\">cp</td><td style = \"text-align: left;\">+</td><td style = \"text-align: right;\">132755</td><td style = \"text-align: left;\">132755eU</td><td style = \"text-align: left;\">C</td><td style = \"text-align: left;\">U</td><td style = \"text-align: right;\">0.8</td><td style = \"text-align: left;\">ndhF-2</td><td style = \"text-align: right;\">1910</td><td style = \"text-align: right;\">0</td><td style = \"text-align: left;\">---</td><td style = \"text-align: left;\">---</td><td style = \"text-align: left;\">-</td><td style = \"text-align: left;\">-</td><td style = \"font-style: italic; text-align: right;\">missing</td><td style = \"text-align: right;\">false</td><td style = \"text-align: right;\">false</td><td style = \"text-align: right;\">false</td><td style = \"text-align: left;\">U</td><td style = \"text-align: left;\">A</td></tr><tr><td class = \"rowNumber\" style = \"font-weight: bold; text-align: right;\">285</td><td style = \"text-align: left;\">cp</td><td style = \"text-align: left;\">+</td><td style = \"text-align: right;\">132815</td><td style = \"text-align: left;\">132815eU</td><td style = \"text-align: left;\">C</td><td style = \"text-align: left;\">U</td><td style = \"text-align: right;\">0.9</td><td style = \"text-align: left;\">ndhF-2</td><td style = \"text-align: right;\">1970</td><td style = \"text-align: right;\">0</td><td style = \"text-align: left;\">---</td><td style = \"text-align: left;\">---</td><td style = \"text-align: left;\">-</td><td style = \"text-align: left;\">-</td><td style = \"font-style: italic; text-align: right;\">missing</td><td style = \"text-align: right;\">false</td><td style = \"text-align: right;\">false</td><td style = \"text-align: right;\">false</td><td style = \"text-align: left;\">U</td><td style = \"text-align: left;\">A</td></tr></tbody></table></div>"
      ],
      "text/latex": [
       "\\begin{tabular}{r|cccccccc}\n",
       "\t& genome & strand & position & id & reference\\_base & edited\\_base & proportion\\_edited & \\\\\n",
       "\t\\hline\n",
       "\t& String & Char & Int64 & String & DNA & RNA & Float64 & \\\\\n",
       "\t\\hline\n",
       "\t1 & cp & + & 737 & rps12BeU448 & C & U & 0.8 & $\\dots$ \\\\\n",
       "\t2 & cp & + & 2178 & ndhBeU395SL & C & U & 0.9 & $\\dots$ \\\\\n",
       "\t3 & cp & + & 2430 & ndhBeU647PL & C & U & 0.9 & $\\dots$ \\\\\n",
       "\t4 & cp & + & 3241 & ndhBeU779SL & C & U & 0.8 & $\\dots$ \\\\\n",
       "\t5 & cp & + & 3260 & ndhBeU798II & C & U & 0.7 & $\\dots$ \\\\\n",
       "\t6 & cp & + & 3262 & ndhBeU800SL & C & U & 0.7 & $\\dots$ \\\\\n",
       "\t7 & cp & + & 3574 & ndhBeU1112PL & C & U & 0.9 & $\\dots$ \\\\\n",
       "\t8 & cp & + & 3607 & ndhBeU1145PL & C & U & 0.9 & $\\dots$ \\\\\n",
       "\t9 & cp & + & 3974 & 3974eU & C & U & 0.2 & $\\dots$ \\\\\n",
       "\t10 & cp & - & 5990 & petNeU44SF & C & U & 0.9 & $\\dots$ \\\\\n",
       "\t11 & cp & + & 12090 & rpoC1eU991RC & C & U & 0.7 & $\\dots$ \\\\\n",
       "\t12 & cp & + & 12155 & rpoC1eU1056PP & C & U & 0.2 & $\\dots$ \\\\\n",
       "\t13 & cp & - & 15795 & 15795eU & C & U & 0.7 & $\\dots$ \\\\\n",
       "\t14 & cp & + & 19092 & rps2eU161SL & C & U & 0.9 & $\\dots$ \\\\\n",
       "\t15 & cp & + & 19110 & rps2eU179SL & C & U & 0.9 & $\\dots$ \\\\\n",
       "\t16 & cp & + & 19146 & rps2eU215SL & C & U & 0.9 & $\\dots$ \\\\\n",
       "\t17 & cp & + & 19153 & rps2eU222VV & C & U & 0.4 & $\\dots$ \\\\\n",
       "\t18 & cp & + & 19182 & rps2eU251TI & C & U & 0.9 & $\\dots$ \\\\\n",
       "\t19 & cp & + & 19428 & rps2eU497TI & C & U & 0.9 & $\\dots$ \\\\\n",
       "\t20 & cp & + & 19584 & rps2eU653SL & C & U & 0.9 & $\\dots$ \\\\\n",
       "\t21 & cp & + & 19880 & 19880eU & C & U & 0.1 & $\\dots$ \\\\\n",
       "\t22 & cp & + & 19908 & atpIeU2TM & C & U & 0.9 & $\\dots$ \\\\\n",
       "\t23 & cp & + & 20052 & atpIeU146SL & C & U & 0.9 & $\\dots$ \\\\\n",
       "\t24 & cp & + & 20130 & atpIeU224PL & C & U & 0.9 & $\\dots$ \\\\\n",
       "\t$\\dots$ & $\\dots$ & $\\dots$ & $\\dots$ & $\\dots$ & $\\dots$ & $\\dots$ & $\\dots$ &  \\\\\n",
       "\\end{tabular}\n"
      ],
      "text/plain": [
       "\u001b[1m285×20 DataFrame\u001b[0m\n",
       "\u001b[1m Row \u001b[0m│\u001b[1m genome \u001b[0m\u001b[1m strand \u001b[0m\u001b[1m position \u001b[0m\u001b[1m id           \u001b[0m\u001b[1m reference_base \u001b[0m\u001b[1m edited_base \u001b[0m\u001b[1m pr\u001b[0m ⋯\n",
       "     │\u001b[90m String \u001b[0m\u001b[90m Char   \u001b[0m\u001b[90m Int64    \u001b[0m\u001b[90m String       \u001b[0m\u001b[90m DNA            \u001b[0m\u001b[90m RNA         \u001b[0m\u001b[90m Fl\u001b[0m ⋯\n",
       "─────┼──────────────────────────────────────────────────────────────────────────\n",
       "   1 │ cp      +            737  rps12BeU448   C               U               ⋯\n",
       "   2 │ cp      +           2178  ndhBeU395SL   C               U\n",
       "   3 │ cp      +           2430  ndhBeU647PL   C               U\n",
       "   4 │ cp      +           3241  ndhBeU779SL   C               U\n",
       "   5 │ cp      +           3260  ndhBeU798II   C               U               ⋯\n",
       "   6 │ cp      +           3262  ndhBeU800SL   C               U\n",
       "   7 │ cp      +           3574  ndhBeU1112PL  C               U\n",
       "   8 │ cp      +           3607  ndhBeU1145PL  C               U\n",
       "  ⋮  │   ⋮       ⋮        ⋮           ⋮              ⋮              ⋮          ⋱\n",
       " 279 │ cp      +         132052  132052eU      C               U               ⋯\n",
       " 280 │ cp      +         132305  132305eU      C               U\n",
       " 281 │ cp      +         132512  132512eU      C               U\n",
       " 282 │ cp      +         132518  132518eU      C               U\n",
       " 283 │ cp      +         132524  132524eU      C               U               ⋯\n",
       " 284 │ cp      +         132755  132755eU      C               U\n",
       " 285 │ cp      +         132815  132815eU      C               U\n",
       "\u001b[36m                                                 14 columns and 270 rows omitted\u001b[0m"
      ]
     },
     "metadata": {},
     "output_type": "display_data"
    }
   ],
   "source": [
    "esites = DataFrame(genome = String[], strand = Char[], position = Int[], id = String[], reference_base = DNA[], edited_base = RNA[], proportion_edited = Float64[], gene = String[], cds_position = Int[], codon_position = Int[],\n",
    "    codon = LongDNA{4}[], edited_codon = LongRNA{4}[], aa = AminoAcid[], edited_aa = AminoAcid[], synonymous = Union{Missing, Bool}[], creates_start = Bool[], creates_stop = Bool[], removes_stop = Bool[],\n",
    "     preceding_base = RNA[], subsequent_base = RNA[])\n",
    "gff_esites = filter(x->occursin(\"RNA editing\", x.attributes), gff)\n",
    "for row in eachrow(gff_esites)\n",
    "    genome = \"cp\"\n",
    "    position = row.start\n",
    "    refbase = refseq[position]\n",
    "    strand = '-'\n",
    "    reference_base = complement(refbase)\n",
    "    if refbase == DNA_C || refbase == DNA_T\n",
    "        strand = '+'\n",
    "        reference_base = refbase\n",
    "    end\n",
    "    edited_base = RNA(row.attributes[11])\n",
    "    if refbase == DNA_C\n",
    "        @assert edited_base == RNA_U\n",
    "    elseif refbase == DNA_T\n",
    "        @assert edited_base == RNA_C\n",
    "    end\n",
    "    proportion_edited = parse(Float64, row.attributes[end-5:end-2])\n",
    "    mygene = missing\n",
    "    gene = \"\"\n",
    "    cds_position = codon_number = codon_position = 0\n",
    "    blank = LongDNA{4}([DNA_Gap, DNA_Gap, DNA_Gap])\n",
    "    codon = blank\n",
    "    for g in reverse(genes)\n",
    "        if position >= g.gene.start && position <= g.gene.stop && strand == g.gene.strand\n",
    "            mygene = g\n",
    "            gene = mygene.id\n",
    "            cds_position, codon_number, codon_position, codon = calculate_codon_position(mygene, position)\n",
    "            break\n",
    "        end\n",
    "    end\n",
    "    edited_codon = LongRNA{4}([RNA_Gap, RNA_Gap, RNA_Gap])\n",
    "    aa = AA_Gap\n",
    "    edited_aa = AA_Gap\n",
    "    synonymous = missing\n",
    "    creates_start = creates_stop = removes_stop = false\n",
    "    if codon ≠ blank\n",
    "        edited_codon = convert(LongRNA{4}, codon)\n",
    "        edited_codon[codon_position] = edited_base\n",
    "        aa = BioSequences.translate(codon)[1]\n",
    "        edited_aa = BioSequences.translate(edited_codon)[1]\n",
    "        synonymous = aa == edited_aa\n",
    "        creates_start = codon_number == 1 && edited_codon == LongRNA{4}([RNA_A, RNA_U, RNA_G])\n",
    "        creates_stop = position == (strand == '+' ? mygene.gene.stop - 2 : mygene.gene.start + 2)\n",
    "        removes_stop = codon ∈ dna_stops\n",
    "    end\n",
    "    preceding_base = strand == '+' ? refseq[position - 1] : refseqcomp[position + 1]\n",
    "    subsequent_base = strand == '+' ? refseq[position + 1] : refseqcomp[position - 1]\n",
    "    id = prepact_name(position, mygene, edited_base, cds_position, aa, edited_aa)\n",
    "    push!(esites, (genome, strand, position, id, reference_base, edited_base, proportion_edited, gene, cds_position, codon_position, codon, edited_codon, aa, edited_aa,\n",
    "     synonymous, creates_start, creates_stop, removes_stop, preceding_base, subsequent_base))\n",
    "end\n",
    "esites\n"
   ]
  },
  {
   "cell_type": "code",
   "execution_count": 14,
   "metadata": {},
   "outputs": [
    {
     "data": {
      "text/plain": [
       "\"cp editing events.tsv\""
      ]
     },
     "metadata": {},
     "output_type": "display_data"
    }
   ],
   "source": [
    "CSV.write(\"cp editing events.tsv\", esites, delim='\\t')"
   ]
  },
  {
   "cell_type": "code",
   "execution_count": 15,
   "metadata": {},
   "outputs": [
    {
     "data": {
      "text/plain": [
       "285"
      ]
     },
     "metadata": {},
     "output_type": "display_data"
    }
   ],
   "source": [
    "nrow(esites)"
   ]
  },
  {
   "cell_type": "code",
   "execution_count": 16,
   "metadata": {},
   "outputs": [
    {
     "data": {
      "text/plain": [
       "Dict{Int64, Int64} with 4 entries:\n",
       "  0 => 50\n",
       "  2 => 188\n",
       "  3 => 23\n",
       "  1 => 24"
      ]
     },
     "metadata": {},
     "output_type": "display_data"
    }
   ],
   "source": [
    "countmap(esites.codon_position)"
   ]
  },
  {
   "cell_type": "code",
   "execution_count": 18,
   "metadata": {},
   "outputs": [
    {
     "data": {
      "text/plain": [
       "23"
      ]
     },
     "metadata": {},
     "output_type": "display_data"
    }
   ],
   "source": [
    "count(skipmissing(esites.synonymous) .== true)"
   ]
  },
  {
   "cell_type": "code",
   "execution_count": 19,
   "metadata": {},
   "outputs": [
    {
     "data": {
      "text/plain": [
       "4"
      ]
     },
     "metadata": {},
     "output_type": "display_data"
    }
   ],
   "source": [
    "count(esites.creates_start)"
   ]
  },
  {
   "cell_type": "code",
   "execution_count": 20,
   "metadata": {},
   "outputs": [
    {
     "data": {
      "text/plain": [
       "1"
      ]
     },
     "metadata": {},
     "output_type": "display_data"
    }
   ],
   "source": [
    "count(esites.creates_stop)"
   ]
  },
  {
   "cell_type": "code",
   "execution_count": 19,
   "metadata": {},
   "outputs": [
    {
     "data": {
      "text/plain": [
       "Dict{RNA, Int64} with 4 entries:\n",
       "  RNA_C => 84\n",
       "  RNA_U => 159\n",
       "  RNA_A => 38\n",
       "  RNA_G => 4"
      ]
     },
     "metadata": {},
     "output_type": "display_data"
    }
   ],
   "source": [
    "countmap(esites.preceding_base)"
   ]
  },
  {
   "cell_type": "code",
   "execution_count": 22,
   "metadata": {},
   "outputs": [
    {
     "data": {
      "text/plain": [
       "0.7554385964912277"
      ]
     },
     "metadata": {},
     "output_type": "display_data"
    }
   ],
   "source": [
    "mean(esites.proportion_edited)"
   ]
  }
 ],
 "metadata": {
  "kernelspec": {
   "display_name": "Julia 1.9.4",
   "language": "julia",
   "name": "julia-1.9"
  },
  "language_info": {
   "file_extension": ".jl",
   "mimetype": "application/julia",
   "name": "julia",
   "version": "1.9.4"
  }
 },
 "nbformat": 4,
 "nbformat_minor": 2
}
