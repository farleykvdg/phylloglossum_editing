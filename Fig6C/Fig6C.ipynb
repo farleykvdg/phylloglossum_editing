{
 "cells": [
  {
   "cell_type": "code",
   "execution_count": 1,
   "metadata": {},
   "outputs": [],
   "source": [
    "using CSV, DataFrames, BioSequences, FASTX, Plots, Plots.Measures, Serialization"
   ]
  },
  {
   "cell_type": "code",
   "execution_count": 2,
   "metadata": {},
   "outputs": [
    {
     "data": {
      "text/plain": [
       "4-element Vector{String}:\n",
       " \"cob\"\n",
       " \"nad1\"\n",
       " \"nad5\"\n",
       " \"rpl2\""
      ]
     },
     "metadata": {},
     "output_type": "display_data"
    }
   ],
   "source": [
    "bases = Dict('A'=>1, 'C'=>2, 'G'=>3, 'T'=>4, 'U'=>4)\n",
    "aas = Dict('A'=>1, 'C'=>2, 'D'=>3, 'E'=>4, 'F'=>5, 'G'=>6, 'H'=>7, 'I'=>8, 'K'=>9, 'L'=>10, 'M'=>11, 'N'=>12,\n",
    "     'P'=>13, 'Q'=>14, 'R'=>15, 'S'=>16, 'T'=>17, 'V'=>18, 'W'=>19, 'Y'=>20)\n",
    "\n",
    "aligned_motifs = [\"P1\",\"L1\",\"S1\",\"P2\",\"L2\",\"S2\",\"SS\",\"P1i\",\"L1i\",\"S1i\",\"P2i\",\"L2i\",\"S2i\",\"SSi\"]\n",
    "\n",
    "species = Dict(\"phylloglossum\" => \"Phylloglossum drummondii\", \"phlegmariurus\" => \"Phlegmariurus squarrosus\", \"huperzia\" => \"Huperzia serrata\")\n",
    "genes = [\"cob\", \"nad1\", \"nad5\", \"rpl2\"]"
   ]
  },
  {
   "cell_type": "code",
   "execution_count": 3,
   "metadata": {},
   "outputs": [
    {
     "data": {
      "text/plain": [
       "match_colour (generic function with 1 method)"
      ]
     },
     "metadata": {},
     "output_type": "display_data"
    }
   ],
   "source": [
    "scoring_tables = deserialize(\"scoring_tables_5L.dict\")\n",
    "\n",
    "max_abs_val = 0.0\n",
    "for (motif, st) in scoring_tables\n",
    "    max_abs_val = max(max_abs_val, maximum(st))\n",
    "    max_abs_val = max(max_abs_val, -minimum(st))\n",
    "end\n",
    "\n",
    "function match_colour(motif::AbstractString, fifth::Char, last::Char, base::Char)\n",
    "    score = scoring_tables[motif][(aas[fifth] - 1) * 20 + aas[last], bases[base]]\n",
    "    cgrad(:bam)[0.5 + score/max_abs_val]\n",
    "end\n"
   ]
  },
  {
   "cell_type": "code",
   "execution_count": 4,
   "metadata": {},
   "outputs": [
    {
     "data": {
      "text/plain": [
       "Dict{String, Symbol} with 6 entries:\n",
       "  \"L1\" => :lightgoldenrod\n",
       "  \"L2\" => :lemonchiffon\n",
       "  \"S1\" => :darkseagreen2\n",
       "  \"S2\" => :slategray3\n",
       "  \"P2\" => :plum3\n",
       "  \"P1\" => :salmon"
      ]
     },
     "metadata": {},
     "output_type": "display_data"
    }
   ],
   "source": [
    "motif_colours = Dict(\"P1\" => :salmon, \"L1\" => :lightgoldenrod, \"S1\" => :darkseagreen2, \"P2\" => :plum3, \"L2\" => :lemonchiffon, \"S2\" => :slategray3)"
   ]
  },
  {
   "cell_type": "code",
   "execution_count": 5,
   "metadata": {},
   "outputs": [
    {
     "data": {
      "text/plain": [
       "rectangle (generic function with 1 method)"
      ]
     },
     "metadata": {},
     "output_type": "display_data"
    }
   ],
   "source": [
    "function read_motifs(species::String, gene::String)\n",
    "    infile = joinpath(species * \"_KP\", join([species, \"dywkp\", gene, \"motifs\"], \"_\") * \".txt\")\n",
    "    if !isfile(infile); return nothing; end\n",
    "    motifs = CSV.File(infile, header=[\"protein\", \"start\", \"end\", \"score\", \"sequence\", \"second\", \"fifth\", \"last\", \"motif\"]) |> DataFrame\n",
    "    #motifs.motif = replace.(motifs.motif, \"i\" => \"\")\n",
    "    motifs.second = getindex.(motifs.second, 1)\n",
    "    motifs.fifth = getindex.(motifs.fifth, 1)\n",
    "    motifs.last = getindex.(motifs.last, 1)\n",
    "    motifs.protein = first.(split.(motifs.protein, \".\"))\n",
    "    select(motifs, Not(:sequence))\n",
    "    filter!(x->x.motif ∈ aligned_motifs, motifs)\n",
    "end\n",
    "\n",
    "function read_target(species::String, gene::String)\n",
    "    targetfile = joinpath(species * \"_KP\", join([species, \"dywkp\", gene, \"target\"], \"_\") * \".fasta\")\n",
    "    if !isfile(targetfile); return nothing; end\n",
    "    rna = FASTA.Reader(open(targetfile)) do infile\n",
    "        rec = first(infile)\n",
    "        string(convert(LongRNA{2}, sequence(LongDNA{4}, rec)))\n",
    "    end\n",
    "end\n",
    "\n",
    "# define a function that returns a Plots.Shape\n",
    "rectangle(w, h, x, y) = Shape(x .+ [0,w,w,0], y .+ [0,0,h,h])"
   ]
  },
  {
   "cell_type": "code",
   "execution_count": 27,
   "metadata": {},
   "outputs": [],
   "source": [
    "for gene in genes\n",
    "    layout = (3, 1)\n",
    "    motifs = Dict{String, DataFrame}()\n",
    "    for spec in keys(species)\n",
    "        df = read_motifs(spec, gene)\n",
    "        isnothing(df) && continue\n",
    "        motifs[spec] = df\n",
    "    end\n",
    "    maxmotifs = maximum(nrow.(values(motifs)))\n",
    "    subplots = Any[]\n",
    "    for spec in [\"phylloglossum\", \"phlegmariurus\", \"huperzia\"] \n",
    "        target = read_target(spec, gene)\n",
    "        isnothing(target) && continue\n",
    "        target = target[end - maxmotifs - 3:end - 4]\n",
    "        push!(subplots, plot(legend=false, axis=:false, left_margin = 60mm))\n",
    "        for i in maxmotifs:-1:1\n",
    "            offset = maxmotifs - nrow(motifs[spec])\n",
    "            motif = i - offset >= 1 ? motifs[spec][i - offset, :] : nothing\n",
    "            plot!(rectangle(2,1,2 * i - 1,1), color = isnothing(motif) ? :silver : motif_colours[motif.motif])\n",
    "            if !isnothing(motif)\n",
    "                annotate!(2 * i, 1.5, Plots.text(join([motif.fifth, motif.last]), :black, :center))\n",
    "            end\n",
    "            plot!(rectangle(2,1,2 * i - 1,0), color = isnothing(motif) ? :silver : match_colour(motif.motif, motif.fifth, motif.last, target[i]), alpha=0.8)\n",
    "            annotate!(2 * i, 0.5, Plots.text(target[i], :black, :center))\n",
    "        end\n",
    "        annotate!(-0.5, 1, Plots.text(species[spec], \"Helvetica Oblique\", :black, :right))\n",
    "    end\n",
    "    plot(subplots..., size=(800,300), layout = layout)\n",
    "    savefig(gene * \".svg\")\n",
    "end"
   ]
  },
  {
   "cell_type": "code",
   "execution_count": null,
   "metadata": {},
   "outputs": [],
   "source": [
    "l = @layout [a{0.95w} b]\n",
    "cmap = cgrad(:bam)\n",
    "heatmap(rand(2,2), clims=(0,1), framestyle=:none, c=cmap, cbar=true, lims=(-1,0))"
   ]
  },
  {
   "cell_type": "code",
   "execution_count": null,
   "metadata": {},
   "outputs": [],
   "source": [
    "savefig(\"cbar.svg\")"
   ]
  }
 ],
 "metadata": {
  "kernelspec": {
   "display_name": "Julia 1.9.4",
   "language": "julia",
   "name": "julia-1.9"
  },
  "language_info": {
   "file_extension": ".jl",
   "mimetype": "application/julia",
   "name": "julia",
   "version": "1.9.4"
  }
 },
 "nbformat": 4,
 "nbformat_minor": 2
}
